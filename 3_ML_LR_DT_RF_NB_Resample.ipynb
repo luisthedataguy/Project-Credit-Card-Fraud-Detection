{
  "cells": [
    {
      "cell_type": "code",
      "execution_count": null,
      "metadata": {
        "id": "WATbBoQWaPVZ"
      },
      "outputs": [],
      "source": [
        "!mkdir -p ~/.kaggle\n",
        "!touch ~/.kaggle/kaggle.json\n",
        "!chmod 600 ~/.kaggle/kaggle.json\n",
        "!echo '{\"username\":\"YOUR-USERNAME\",\"key\":\"YOUR-API-KEY\"}' > ~/.kaggle/kaggle.json"
      ]
    },
    {
      "cell_type": "code",
      "execution_count": null,
      "metadata": {
        "colab": {
          "base_uri": "https://localhost:8080/"
        },
        "id": "S30LnPRzaUvb",
        "outputId": "d7eec0c8-cacb-4aee-c87e-e34ba8850430"
      },
      "outputs": [
        {
          "name": "stdout",
          "output_type": "stream",
          "text": [
            "Downloading fraud-detection.zip to /content\n",
            " 97% 195M/202M [00:01<00:00, 104MB/s]\n",
            "100% 202M/202M [00:01<00:00, 119MB/s]\n"
          ]
        }
      ],
      "source": [
        "!kaggle datasets download -d kartik2112/fraud-detection"
      ]
    },
    {
      "cell_type": "code",
      "execution_count": null,
      "metadata": {
        "colab": {
          "base_uri": "https://localhost:8080/"
        },
        "id": "NsO7xJlFcd3s",
        "outputId": "17fd070d-6072-4e2a-be31-f9ab4a54c623"
      },
      "outputs": [
        {
          "name": "stdout",
          "output_type": "stream",
          "text": [
            "Archive:  fraud-detection.zip\n",
            "  inflating: fraudTest.csv           \n",
            "  inflating: fraudTrain.csv          \n"
          ]
        }
      ],
      "source": [
        "!unzip -o fraud-detection.zip"
      ]
    },
    {
      "cell_type": "code",
      "execution_count": null,
      "metadata": {
        "id": "PcYCxbyUauFU"
      },
      "outputs": [],
      "source": [
        "import pandas as pd\n",
        "import numpy as np\n",
        "import matplotlib.pyplot as plt\n",
        "import seaborn as sns"
      ]
    },
    {
      "cell_type": "markdown",
      "metadata": {},
      "source": []
    },
    {
      "cell_type": "markdown",
      "metadata": {
        "id": "1rG2Fe6geQl9"
      },
      "source": [
        "# Carga de Datasets"
      ]
    },
    {
      "cell_type": "code",
      "execution_count": null,
      "metadata": {
        "id": "_WQ4nUVLyiKB"
      },
      "outputs": [],
      "source": [
        "train_master = pd.read_csv('fraudTrain.csv', index_col=0)\n",
        "test_master = pd.read_csv('fraudTest.csv', index_col=0)"
      ]
    },
    {
      "cell_type": "markdown",
      "metadata": {},
      "source": []
    },
    {
      "cell_type": "markdown",
      "metadata": {
        "id": "xEQ9Tm8-eTW5"
      },
      "source": [
        "# Funciones de utilidad para feature engineering"
      ]
    },
    {
      "cell_type": "code",
      "execution_count": null,
      "metadata": {
        "id": "jbzaqYUR1qFw"
      },
      "outputs": [],
      "source": [
        "# Source: https://stackoverflow.com/a/29546836/6948907\n",
        "\n",
        "def haversine_np(lon1, lat1, lon2, lat2):\n",
        "    \"\"\"\n",
        "    Calculate the great circle distance between two points\n",
        "    on the earth (specified in decimal degrees)\n",
        "    All args must be of equal length.    \n",
        "\n",
        "    \"\"\"\n",
        "    lon1, lat1, lon2, lat2 = map(np.radians, [lon1, lat1, lon2, lat2])\n",
        "\n",
        "    dlon = lon2 - lon1\n",
        "    dlat = lat2 - lat1\n",
        "\n",
        "    a = np.sin(dlat/2.0)**2 + np.cos(lat1) * np.cos(lat2) * np.sin(dlon/2.0)**2\n",
        "\n",
        "    c = 2 * np.arcsin(np.sqrt(a))\n",
        "    km = 6367 * c\n",
        "    return km\n",
        "\n",
        "def is_weekend(txn_time):\n",
        "    return int(txn_time.weekday() >= 5)\n",
        "\n",
        "def is_night(txn_time):\n",
        "    return int(txn_time.hour <= 6 or txn_time.hour >= 22)"
      ]
    },
    {
      "cell_type": "code",
      "execution_count": null,
      "metadata": {
        "id": "hZPG2BzNwJGy"
      },
      "outputs": [],
      "source": [
        "def get_txn_history(txns, windows=[7, 15, 30, 60]):\n",
        "    txns = txns.sort_values('trans_date_trans_time')\n",
        "    txns.index = txns.trans_date_trans_time\n",
        "    \n",
        "    for window in windows:\n",
        "        total_amt = txns['amt'].rolling(window, min_periods = 1).sum()\n",
        "        count_amt = txns['amt'].rolling(window, min_periods = 1).count()\n",
        "\n",
        "        avg_amt = total_amt/count_amt\n",
        "\n",
        "        txns[f'count_amt_{window}_days'] = list(count_amt)\n",
        "        txns[f'count_avg_{window}_days'] = list(avg_amt)\n",
        "\n",
        "    txns.reset_index(drop = True)\n",
        "    return txns"
      ]
    },
    {
      "cell_type": "markdown",
      "metadata": {
        "id": "mxo5k8JaeZes"
      },
      "source": [
        "# Transformation, scaling and oversampling pipeline"
      ]
    },
    {
      "cell_type": "code",
      "execution_count": null,
      "metadata": {
        "id": "ooQQrh6whhUw"
      },
      "outputs": [],
      "source": [
        "def transform(df):\n",
        "    df = df.groupby('cc_num').apply(lambda x: get_txn_history(x, windows=[7, 15, 30]))\n",
        "    df.reset_index(drop=True, inplace = True)\n",
        "    df = df.sort_values('trans_date_trans_time')\n",
        "\n",
        "    # Fraud by merchant\n",
        "    fraud_by_merch = df[(df['is_fraud'] == 1)].groupby('merchant')['merchant'].count().to_dict()\n",
        "    df['fraud_by_merch'] = df['merchant'].transform(lambda m: fraud_by_merch.get(m, 0))\n",
        "\n",
        "    # Retain only month and year of txn\n",
        "    df['trans_month'] = pd.DatetimeIndex(df['trans_date_trans_time']).month\n",
        "    df['trans_year'] = pd.DatetimeIndex(df['trans_date_trans_time']).year\n",
        "\n",
        "    # Calculate distance between user and merchant\n",
        "    df['distance_bet_user_merchant'] = haversine_np(\n",
        "        df['lat'], df['long'],\n",
        "        df['merch_lat'], df['merch_long']\n",
        "    )\n",
        "\n",
        "    # Encode gender\n",
        "    df['gender'] = df['gender'].transform(lambda g: 1 if g == 'F' else 0)\n",
        "\n",
        "    # One hot encoding of categories\n",
        "    df = pd.get_dummies(df, columns=['category'], drop_first=True)\n",
        "\n",
        "    # Calculate age of user at the time of txn\n",
        "    df['dob'] = pd.to_datetime(df['dob'])\n",
        "    df['trans_date_trans_time'] = pd.to_datetime(df['trans_date_trans_time'])\n",
        "    df['user_age'] = (df['trans_date_trans_time'] - df['dob']).astype('<m8[Y]').apply(pd.to_numeric)\n",
        "\n",
        "    # Whether txn was at night\n",
        "    df['txn_at_night'] = df['trans_date_trans_time'].apply(lambda txn_time: is_night(txn_time))\n",
        "\n",
        "    # Whether txn was on a weekend\n",
        "    df['txn_on_weekend'] = df['trans_date_trans_time'].apply(lambda txn_time: is_weekend(txn_time))\n",
        "\n",
        "    # Drop columns that are no longer required\n",
        "    df.drop(axis=1, inplace=True, columns=[\n",
        "            'trans_num', 'street', 'first', 'last', 'unix_time', 'city', 'state',\n",
        "            'trans_date_trans_time', 'dob', 'job', 'cc_num', 'merchant',\n",
        "            'zip', 'lat', 'long', 'merch_lat', 'merch_long',\n",
        "        ]\n",
        "    )\n",
        "\n",
        "    return df"
      ]
    },
    {
      "cell_type": "code",
      "execution_count": null,
      "metadata": {
        "id": "Ub5kk6iDyHKT"
      },
      "outputs": [],
      "source": [
        "from sklearn.utils import resample\n",
        "\n",
        "def oversample(df):\n",
        "    majority = df[(df['is_fraud'] == 0)]\n",
        "    minority = df[(df['is_fraud'] == 1)]\n",
        "\n",
        "    minority_upsampled = resample(\n",
        "        minority, replace=True, \n",
        "        n_samples=majority.shape[0], random_state=42\n",
        "    )\n",
        "    \n",
        "    return pd.concat([minority_upsampled, majority])"
      ]
    },
    {
      "cell_type": "code",
      "execution_count": null,
      "metadata": {
        "id": "R9-SlgQyzPTu"
      },
      "outputs": [],
      "source": [
        "from sklearn.preprocessing import StandardScaler\n",
        "\n",
        "def scale(df):\n",
        "    std_scaler = StandardScaler()\n",
        "    return std_scaler.fit_transform(df)"
      ]
    },
    {
      "cell_type": "markdown",
      "metadata": {
        "id": "k47mYtnsef-M"
      },
      "source": [
        "# Funciones auxiliares de evaluación de modelos"
      ]
    },
    {
      "cell_type": "code",
      "execution_count": null,
      "metadata": {
        "id": "UlFBrx9ExATL"
      },
      "outputs": [],
      "source": [
        "from sklearn.metrics import confusion_matrix, classification_report\n",
        "\n",
        "def evaluate_model(model, X, y):\n",
        "    score = model.score(X, y)\n",
        "    print(f\"Accuracy: {score:.2f}\")\n",
        "    print(confusion_matrix(y, model.predict(X)))\n",
        "    print(classification_report(model.predict(X), y))"
      ]
    },
    {
      "cell_type": "code",
      "execution_count": null,
      "metadata": {
        "id": "0GVWdJfRf3vi"
      },
      "outputs": [],
      "source": [
        "from sklearn.metrics import roc_auc_score\n",
        "from sklearn.metrics import roc_curve\n",
        "\n",
        "def plot_roc_auc(model, X, y):\n",
        "    roc_auc = roc_auc_score(y, model.predict(X))\n",
        "    fpr, tpr, thresholds = roc_curve(y, model.predict_proba(X)[:,1])\n",
        "    plt.figure()\n",
        "    plt.plot(fpr, tpr)\n",
        "    plt.plot([0, 1], [0, 1],'r--')\n",
        "    plt.xlim([0.0, 1.0])\n",
        "    plt.ylim([0.0, 1.05])\n",
        "    plt.xlabel('False Positive Rate')\n",
        "    plt.ylabel('True Positive Rate')\n",
        "    plt.title('Receiver operating characteristic')\n",
        "    plt.legend(loc=\"lower right\")\n",
        "    plt.savefig('Log_ROC')\n",
        "    plt.show()"
      ]
    },
    {
      "cell_type": "markdown",
      "metadata": {
        "id": "t9yfq5bjekyP"
      },
      "source": [
        "# Preprocesamiento de datos"
      ]
    },
    {
      "cell_type": "code",
      "execution_count": null,
      "metadata": {
        "id": "1AqdUpDuiWsf"
      },
      "outputs": [],
      "source": [
        "train_X = transform(train_master)"
      ]
    },
    {
      "cell_type": "code",
      "execution_count": null,
      "metadata": {
        "colab": {
          "base_uri": "https://localhost:8080/",
          "height": 332
        },
        "id": "aSNoEey-jhst",
        "outputId": "8220ee26-13ea-4da2-a530-3ce1a987949c"
      },
      "outputs": [
        {
          "data": {
            "image/png": "[encoded data removed]",
            "text/plain": [
              "<Figure size 1080x360 with 2 Axes>"
            ]
          },
          "metadata": {
            "needs_background": "light"
          },
          "output_type": "display_data"
        }
      ],
      "source": [
        "fig, (ax1, ax2) = plt.subplots(ncols = 2, figsize =(15, 5))\n",
        "ax1.set_title('Before Oversampling')\n",
        "pd.Series(train_X['is_fraud']).value_counts().plot.bar(ax=ax1)\n",
        "\n",
        "train_X = oversample(train_X)\n",
        "\n",
        "ax2.set_title('After Oversampling') \n",
        "pd.Series(train_X['is_fraud']).value_counts().plot.bar(ax=ax2)\n",
        "plt.show()"
      ]
    },
    {
      "cell_type": "code",
      "execution_count": null,
      "metadata": {
        "id": "iOvjpN4afxNg"
      },
      "outputs": [],
      "source": [
        "train_y = train_X['is_fraud']\n",
        "train_X.drop(axis=1, columns=['is_fraud'], inplace=True)"
      ]
    },
    {
      "cell_type": "code",
      "execution_count": null,
      "metadata": {
        "id": "NYH0Z4GIzwSW"
      },
      "outputs": [],
      "source": [
        "train_X = scale(train_X)"
      ]
    },
    {
      "cell_type": "code",
      "execution_count": null,
      "metadata": {
        "id": "ElbsPmhfijtd"
      },
      "outputs": [],
      "source": [
        "test_X = transform(test_master)"
      ]
    },
    {
      "cell_type": "code",
      "execution_count": null,
      "metadata": {
        "colab": {
          "base_uri": "https://localhost:8080/",
          "height": 332
        },
        "id": "JTYcirWvhrRM",
        "outputId": "9e9cfc57-d477-4b9d-95d4-96dc451622c7"
      },
      "outputs": [
        {
          "data": {
            "image/png": "[encoded data removed]",
            "text/plain": [
              "<Figure size 1080x360 with 2 Axes>"
            ]
          },
          "metadata": {
            "needs_background": "light"
          },
          "output_type": "display_data"
        }
      ],
      "source": [
        "fig, (ax1, ax2) = plt.subplots(ncols = 2, figsize =(15, 5))\n",
        "ax1.set_title('Before Oversampling')\n",
        "pd.Series(test_X['is_fraud']).value_counts().plot.bar(ax=ax1)\n",
        "\n",
        "test_X = oversample(test_X)\n",
        "\n",
        "ax2.set_title('After Oversampling') \n",
        "pd.Series(test_X['is_fraud']).value_counts().plot.bar(ax=ax2)\n",
        "plt.show()"
      ]
    },
    {
      "cell_type": "code",
      "execution_count": null,
      "metadata": {
        "id": "OxCzVHwWi9Ww"
      },
      "outputs": [],
      "source": [
        "test_y = test_X['is_fraud']\n",
        "test_X.drop(axis=1, columns=['is_fraud'], inplace=True)"
      ]
    },
    {
      "cell_type": "code",
      "execution_count": null,
      "metadata": {
        "id": "M76vVkTGjJTT"
      },
      "outputs": [],
      "source": [
        "test_X = scale(test_X)"
      ]
    },
    {
      "cell_type": "markdown",
      "metadata": {
        "id": "rrNGYsecURRj"
      },
      "source": [
        "# Logistic Regression"
      ]
    },
    {
      "cell_type": "code",
      "execution_count": null,
      "metadata": {
        "colab": {
          "base_uri": "https://localhost:8080/"
        },
        "id": "WBsgUWLZgWLf",
        "outputId": "41217605-e557-423e-9467-fee259eaf8d3"
      },
      "outputs": [
        {
          "data": {
            "text/plain": [
              "LogisticRegression()"
            ]
          },
          "execution_count": 63,
          "metadata": {},
          "output_type": "execute_result"
        }
      ],
      "source": [
        "from sklearn.linear_model import LogisticRegression\n",
        "\n",
        "model = LogisticRegression()\n",
        "model.fit(train_X, train_y)"
      ]
    },
    {
      "cell_type": "code",
      "execution_count": null,
      "metadata": {
        "colab": {
          "base_uri": "https://localhost:8080/"
        },
        "id": "yltb9TrrxZsm",
        "outputId": "db6d32dc-6629-401c-9498-86dd3415b4e1"
      },
      "outputs": [
        {
          "name": "stdout",
          "output_type": "stream",
          "text": [
            "Accuracy: 0.94\n",
            "[[1234682   54487]\n",
            " [  98076 1191093]]\n",
            "              precision    recall  f1-score   support\n",
            "\n",
            "           0       0.96      0.93      0.94   1332758\n",
            "           1       0.92      0.96      0.94   1245580\n",
            "\n",
            "    accuracy                           0.94   2578338\n",
            "   macro avg       0.94      0.94      0.94   2578338\n",
            "weighted avg       0.94      0.94      0.94   2578338\n",
            "\n"
          ]
        }
      ],
      "source": [
        "evaluate_model(model, train_X, train_y)"
      ]
    },
    {
      "cell_type": "markdown",
      "metadata": {
        "id": "kRBZ7HaLeqG_"
      },
      "source": [
        "### Testing"
      ]
    },
    {
      "cell_type": "code",
      "execution_count": null,
      "metadata": {
        "colab": {
          "base_uri": "https://localhost:8080/"
        },
        "id": "g0U6bRxLxfEt",
        "outputId": "ec183743-0163-403c-ed75-6bd75c9e7c60"
      },
      "outputs": [
        {
          "name": "stdout",
          "output_type": "stream",
          "text": [
            "Accuracy: 0.93\n",
            "[[529040  24534]\n",
            " [ 48232 505342]]\n",
            "              precision    recall  f1-score   support\n",
            "\n",
            "           0       0.96      0.92      0.94    577272\n",
            "           1       0.91      0.95      0.93    529876\n",
            "\n",
            "    accuracy                           0.93   1107148\n",
            "   macro avg       0.93      0.94      0.93   1107148\n",
            "weighted avg       0.94      0.93      0.93   1107148\n",
            "\n"
          ]
        }
      ],
      "source": [
        "evaluate_model(model, test_X, test_y)"
      ]
    },
    {
      "cell_type": "code",
      "execution_count": null,
      "metadata": {
        "colab": {
          "base_uri": "https://localhost:8080/",
          "height": 312
        },
        "id": "z7FTeQU7gahD",
        "outputId": "ddb4d4a5-f4a8-4287-ca68-b5876e2dacbc"
      },
      "outputs": [
        {
          "name": "stderr",
          "output_type": "stream",
          "text": [
            "No handles with labels found to put in legend.\n"
          ]
        },
        {
          "data": {
            "image/png": "[encoded data removed]",
            "text/plain": [
              "<Figure size 432x288 with 1 Axes>"
            ]
          },
          "metadata": {
            "needs_background": "light"
          },
          "output_type": "display_data"
        }
      ],
      "source": [
        "plot_roc_auc(model, test_X, test_y)"
      ]
    },
    {
      "cell_type": "markdown",
      "metadata": {
        "id": "R8Zx7NV9UNZT"
      },
      "source": [
        "# Logistic Regression with Cross Validation"
      ]
    },
    {
      "cell_type": "code",
      "execution_count": null,
      "metadata": {
        "colab": {
          "base_uri": "https://localhost:8080/"
        },
        "id": "4ZWH7w-QE4XG",
        "outputId": "b8577e44-80de-4750-9139-339f744aa5d3"
      },
      "outputs": [
        {
          "data": {
            "text/plain": [
              "LogisticRegressionCV(cv=5)"
            ]
          },
          "execution_count": 67,
          "metadata": {},
          "output_type": "execute_result"
        }
      ],
      "source": [
        "from sklearn.linear_model import LogisticRegressionCV\n",
        "\n",
        "model = LogisticRegressionCV(cv=5)\n",
        "model.fit(train_X, train_y)"
      ]
    },
    {
      "cell_type": "code",
      "execution_count": null,
      "metadata": {
        "colab": {
          "base_uri": "https://localhost:8080/"
        },
        "id": "de3f1Q8HFH3L",
        "outputId": "ed5dd6f4-28a2-43f4-d82d-3633c3e4a12f"
      },
      "outputs": [
        {
          "name": "stdout",
          "output_type": "stream",
          "text": [
            "Accuracy: 0.94\n",
            "[[1235617   53552]\n",
            " [  98767 1190402]]\n",
            "              precision    recall  f1-score   support\n",
            "\n",
            "           0       0.96      0.93      0.94   1334384\n",
            "           1       0.92      0.96      0.94   1243954\n",
            "\n",
            "    accuracy                           0.94   2578338\n",
            "   macro avg       0.94      0.94      0.94   2578338\n",
            "weighted avg       0.94      0.94      0.94   2578338\n",
            "\n"
          ]
        }
      ],
      "source": [
        "evaluate_model(model, train_X, train_y)"
      ]
    },
    {
      "cell_type": "markdown",
      "metadata": {
        "id": "Ik1lSAZ8esWd"
      },
      "source": [
        "### Testing"
      ]
    },
    {
      "cell_type": "code",
      "execution_count": null,
      "metadata": {
        "colab": {
          "base_uri": "https://localhost:8080/"
        },
        "id": "5HooTKegFKNr",
        "outputId": "85a86295-2af2-4eca-c625-1e3c75b72fe7"
      },
      "outputs": [
        {
          "name": "stdout",
          "output_type": "stream",
          "text": [
            "Accuracy: 0.93\n",
            "[[529402  24172]\n",
            " [ 49559 504015]]\n",
            "              precision    recall  f1-score   support\n",
            "\n",
            "           0       0.96      0.91      0.93    578961\n",
            "           1       0.91      0.95      0.93    528187\n",
            "\n",
            "    accuracy                           0.93   1107148\n",
            "   macro avg       0.93      0.93      0.93   1107148\n",
            "weighted avg       0.93      0.93      0.93   1107148\n",
            "\n"
          ]
        }
      ],
      "source": [
        "evaluate_model(model, test_X, test_y)"
      ]
    },
    {
      "cell_type": "code",
      "execution_count": null,
      "metadata": {
        "colab": {
          "base_uri": "https://localhost:8080/",
          "height": 312
        },
        "id": "Ug6A8QvFg5Cv",
        "outputId": "9ef08d22-0c9c-4bbb-ccd4-e1e3bd52cda7"
      },
      "outputs": [
        {
          "name": "stderr",
          "output_type": "stream",
          "text": [
            "No handles with labels found to put in legend.\n"
          ]
        },
        {
          "data": {
            "image/png": "[encoded data removed]",
            "text/plain": [
              "<Figure size 432x288 with 1 Axes>"
            ]
          },
          "metadata": {
            "needs_background": "light"
          },
          "output_type": "display_data"
        }
      ],
      "source": [
        "plot_roc_auc(model, test_X, test_y)"
      ]
    },
    {
      "cell_type": "markdown",
      "metadata": {
        "id": "GJKPTy1-LJbs"
      },
      "source": [
        "# Decision Tree"
      ]
    },
    {
      "cell_type": "code",
      "execution_count": null,
      "metadata": {
        "colab": {
          "base_uri": "https://localhost:8080/"
        },
        "id": "BLK8bOJ0LHWh",
        "outputId": "e86e6311-6fed-409a-c441-9bfc2fea42de"
      },
      "outputs": [
        {
          "data": {
            "text/plain": [
              "DecisionTreeClassifier()"
            ]
          },
          "execution_count": 71,
          "metadata": {},
          "output_type": "execute_result"
        }
      ],
      "source": [
        "from sklearn.tree import DecisionTreeClassifier\n",
        "\n",
        "model = DecisionTreeClassifier()\n",
        "model.fit(train_X, train_y)"
      ]
    },
    {
      "cell_type": "code",
      "execution_count": null,
      "metadata": {
        "colab": {
          "base_uri": "https://localhost:8080/"
        },
        "id": "oNzSY8R0Wh2S",
        "outputId": "00f36e37-6d06-493a-ccb3-d9c2f6e5f4dd"
      },
      "outputs": [
        {
          "name": "stdout",
          "output_type": "stream",
          "text": [
            "Accuracy: 1.00\n",
            "[[1289169       0]\n",
            " [      0 1289169]]\n",
            "              precision    recall  f1-score   support\n",
            "\n",
            "           0       1.00      1.00      1.00   1289169\n",
            "           1       1.00      1.00      1.00   1289169\n",
            "\n",
            "    accuracy                           1.00   2578338\n",
            "   macro avg       1.00      1.00      1.00   2578338\n",
            "weighted avg       1.00      1.00      1.00   2578338\n",
            "\n"
          ]
        }
      ],
      "source": [
        "evaluate_model(model, train_X, train_y)"
      ]
    },
    {
      "cell_type": "markdown",
      "metadata": {
        "id": "R7voyF0meuTr"
      },
      "source": [
        "### Testing"
      ]
    },
    {
      "cell_type": "code",
      "execution_count": null,
      "metadata": {
        "colab": {
          "base_uri": "https://localhost:8080/"
        },
        "id": "gzJGYgphWjWm",
        "outputId": "fc14a115-6ea1-49df-9e18-1b93be53b8ba"
      },
      "outputs": [
        {
          "name": "stdout",
          "output_type": "stream",
          "text": [
            "Accuracy: 0.89\n",
            "[[553131    443]\n",
            " [122859 430715]]\n",
            "              precision    recall  f1-score   support\n",
            "\n",
            "           0       1.00      0.82      0.90    675990\n",
            "           1       0.78      1.00      0.87    431158\n",
            "\n",
            "    accuracy                           0.89   1107148\n",
            "   macro avg       0.89      0.91      0.89   1107148\n",
            "weighted avg       0.91      0.89      0.89   1107148\n",
            "\n"
          ]
        }
      ],
      "source": [
        "evaluate_model(model, test_X, test_y)"
      ]
    },
    {
      "cell_type": "code",
      "execution_count": null,
      "metadata": {
        "colab": {
          "base_uri": "https://localhost:8080/",
          "height": 312
        },
        "id": "nCuIJSr7g6Tb",
        "outputId": "5f71d1fb-5059-48ee-ece5-dea2bc41ac35"
      },
      "outputs": [
        {
          "name": "stderr",
          "output_type": "stream",
          "text": [
            "No handles with labels found to put in legend.\n"
          ]
        },
        {
          "data": {
            "image/png": "[encoded data removed]",
            "text/plain": [
              "<Figure size 432x288 with 1 Axes>"
            ]
          },
          "metadata": {
            "needs_background": "light"
          },
          "output_type": "display_data"
        }
      ],
      "source": [
        "plot_roc_auc(model, test_X, test_y)"
      ]
    },
    {
      "cell_type": "markdown",
      "metadata": {
        "id": "PpLohuXfUUPm"
      },
      "source": [
        "# Decision Tree with Cross Validation (Grid Search)"
      ]
    },
    {
      "cell_type": "code",
      "execution_count": null,
      "metadata": {
        "colab": {
          "base_uri": "https://localhost:8080/"
        },
        "id": "a1x3Pb_YXdvo",
        "outputId": "403d6b23-0247-471d-80f5-18254f736c9f"
      },
      "outputs": [
        {
          "data": {
            "text/plain": [
              "GridSearchCV(cv=5, estimator=DecisionTreeClassifier(),\n",
              "             param_grid={'max_depth': [50, 100]})"
            ]
          },
          "execution_count": 76,
          "metadata": {},
          "output_type": "execute_result"
        }
      ],
      "source": [
        "from sklearn.model_selection import GridSearchCV\n",
        "\n",
        "params = {\n",
        "    'max_depth': [50, 100],\n",
        "}\n",
        "\n",
        "dt_model = DecisionTreeClassifier()\n",
        "grid_search = GridSearchCV(\n",
        "    estimator=dt_model,\n",
        "    param_grid=params,\n",
        "    cv=5\n",
        ")\n",
        "\n",
        "grid_search.fit(train_X, train_y)"
      ]
    },
    {
      "cell_type": "code",
      "execution_count": null,
      "metadata": {
        "colab": {
          "base_uri": "https://localhost:8080/"
        },
        "id": "-Q12hSl-Yp4b",
        "outputId": "1b3fb73a-e0b7-4772-9d63-0f7c20ccb49d"
      },
      "outputs": [
        {
          "name": "stdout",
          "output_type": "stream",
          "text": [
            "Accuracy: 1.00\n",
            "[[1289169       0]\n",
            " [      0 1289169]]\n",
            "              precision    recall  f1-score   support\n",
            "\n",
            "           0       1.00      1.00      1.00   1289169\n",
            "           1       1.00      1.00      1.00   1289169\n",
            "\n",
            "    accuracy                           1.00   2578338\n",
            "   macro avg       1.00      1.00      1.00   2578338\n",
            "weighted avg       1.00      1.00      1.00   2578338\n",
            "\n"
          ]
        }
      ],
      "source": [
        "evaluate_model(grid_search, train_X, train_y)"
      ]
    },
    {
      "cell_type": "markdown",
      "metadata": {
        "id": "2KjqyeG3ewiv"
      },
      "source": [
        "### Testing"
      ]
    },
    {
      "cell_type": "code",
      "execution_count": null,
      "metadata": {
        "colab": {
          "base_uri": "https://localhost:8080/"
        },
        "id": "AX7PD8hiYrhj",
        "outputId": "34bec6d1-88cc-4be4-8676-877bbb3abf40"
      },
      "outputs": [
        {
          "name": "stdout",
          "output_type": "stream",
          "text": [
            "Accuracy: 0.89\n",
            "[[553142    432]\n",
            " [123069 430505]]\n",
            "              precision    recall  f1-score   support\n",
            "\n",
            "           0       1.00      0.82      0.90    676211\n",
            "           1       0.78      1.00      0.87    430937\n",
            "\n",
            "    accuracy                           0.89   1107148\n",
            "   macro avg       0.89      0.91      0.89   1107148\n",
            "weighted avg       0.91      0.89      0.89   1107148\n",
            "\n"
          ]
        }
      ],
      "source": [
        "evaluate_model(grid_search, test_X, test_y)"
      ]
    },
    {
      "cell_type": "code",
      "execution_count": null,
      "metadata": {
        "colab": {
          "base_uri": "https://localhost:8080/",
          "height": 312
        },
        "id": "MFka98jtg9wr",
        "outputId": "e42bae8e-da25-47dd-aa0e-491afd8edfbe"
      },
      "outputs": [
        {
          "name": "stderr",
          "output_type": "stream",
          "text": [
            "No handles with labels found to put in legend.\n"
          ]
        },
        {
          "data": {
            "image/png": "[encoded data removed]",
            "text/plain": [
              "<Figure size 432x288 with 1 Axes>"
            ]
          },
          "metadata": {
            "needs_background": "light"
          },
          "output_type": "display_data"
        }
      ],
      "source": [
        "plot_roc_auc(grid_search, test_X, test_y)"
      ]
    },
    {
      "cell_type": "markdown",
      "metadata": {
        "id": "yBAu0V5ze9pv"
      },
      "source": [
        "# Random Forest Classifier"
      ]
    },
    {
      "cell_type": "code",
      "execution_count": null,
      "metadata": {
        "colab": {
          "base_uri": "https://localhost:8080/"
        },
        "id": "-uzYTD3ie_sP",
        "outputId": "cb1eee54-5f35-42d2-f0f0-6f3a72d2824a"
      },
      "outputs": [
        {
          "data": {
            "text/plain": [
              "RandomForestClassifier()"
            ]
          },
          "execution_count": 80,
          "metadata": {},
          "output_type": "execute_result"
        }
      ],
      "source": [
        "from sklearn.ensemble import RandomForestClassifier\n",
        "\n",
        "model = RandomForestClassifier()\n",
        "model.fit(train_X, train_y)"
      ]
    },
    {
      "cell_type": "code",
      "execution_count": null,
      "metadata": {
        "colab": {
          "base_uri": "https://localhost:8080/"
        },
        "id": "TSHBfGuMfG7d",
        "outputId": "cec4560c-2415-4987-ad9a-b2a78a617068"
      },
      "outputs": [
        {
          "name": "stdout",
          "output_type": "stream",
          "text": [
            "Accuracy: 1.00\n",
            "[[1289169       0]\n",
            " [      0 1289169]]\n",
            "              precision    recall  f1-score   support\n",
            "\n",
            "           0       1.00      1.00      1.00   1289169\n",
            "           1       1.00      1.00      1.00   1289169\n",
            "\n",
            "    accuracy                           1.00   2578338\n",
            "   macro avg       1.00      1.00      1.00   2578338\n",
            "weighted avg       1.00      1.00      1.00   2578338\n",
            "\n"
          ]
        }
      ],
      "source": [
        "evaluate_model(model, train_X, train_y)"
      ]
    },
    {
      "cell_type": "markdown",
      "metadata": {
        "id": "Lz2YFqqNfKh2"
      },
      "source": [
        "### Testing"
      ]
    },
    {
      "cell_type": "code",
      "execution_count": null,
      "metadata": {
        "colab": {
          "base_uri": "https://localhost:8080/"
        },
        "id": "Hdnt7kJ7fKh3",
        "outputId": "eee81d64-ef26-4d72-e37b-207fbab8722e"
      },
      "outputs": [
        {
          "name": "stdout",
          "output_type": "stream",
          "text": [
            "Accuracy: 0.89\n",
            "[[553440    134]\n",
            " [116381 437193]]\n",
            "              precision    recall  f1-score   support\n",
            "\n",
            "           0       1.00      0.83      0.90    669821\n",
            "           1       0.79      1.00      0.88    437327\n",
            "\n",
            "    accuracy                           0.89   1107148\n",
            "   macro avg       0.89      0.91      0.89   1107148\n",
            "weighted avg       0.92      0.89      0.90   1107148\n",
            "\n"
          ]
        }
      ],
      "source": [
        "evaluate_model(model, test_X, test_y)"
      ]
    },
    {
      "cell_type": "code",
      "execution_count": null,
      "metadata": {
        "colab": {
          "base_uri": "https://localhost:8080/",
          "height": 312
        },
        "id": "L2nUzslmg-c6",
        "outputId": "dfe9cdda-5782-4d18-ff72-7fcca08f97d1"
      },
      "outputs": [
        {
          "name": "stderr",
          "output_type": "stream",
          "text": [
            "No handles with labels found to put in legend.\n"
          ]
        },
        {
          "data": {
            "image/png": "[encoded data removed]",
            "text/plain": [
              "<Figure size 432x288 with 1 Axes>"
            ]
          },
          "metadata": {
            "needs_background": "light"
          },
          "output_type": "display_data"
        }
      ],
      "source": [
        "plot_roc_auc(model, test_X, test_y)"
      ]
    },
    {
      "cell_type": "markdown",
      "metadata": {
        "id": "KiL9gm_IPop3"
      },
      "source": [
        "# Naive Bayes"
      ]
    },
    {
      "cell_type": "code",
      "execution_count": null,
      "metadata": {
        "colab": {
          "base_uri": "https://localhost:8080/"
        },
        "id": "LU9OZcZOPop4",
        "outputId": "db0bf859-2ae7-4e20-b9fa-544d595f8eb2"
      },
      "outputs": [
        {
          "data": {
            "text/plain": [
              "GaussianNB()"
            ]
          },
          "execution_count": 21,
          "metadata": {},
          "output_type": "execute_result"
        }
      ],
      "source": [
        "from sklearn.naive_bayes import GaussianNB\n",
        "\n",
        "model = GaussianNB()\n",
        "model.fit(train_X, train_y)"
      ]
    },
    {
      "cell_type": "code",
      "execution_count": null,
      "metadata": {
        "colab": {
          "base_uri": "https://localhost:8080/"
        },
        "id": "pmrGZD29Pop5",
        "outputId": "8606f52f-d3bc-450d-c6bc-af9c76ed3293"
      },
      "outputs": [
        {
          "name": "stdout",
          "output_type": "stream",
          "text": [
            "Accuracy: 0.88\n",
            "[[1237702   51467]\n",
            " [ 257773 1031396]]\n",
            "              precision    recall  f1-score   support\n",
            "\n",
            "           0       0.96      0.83      0.89   1495475\n",
            "           1       0.80      0.95      0.87   1082863\n",
            "\n",
            "    accuracy                           0.88   2578338\n",
            "   macro avg       0.88      0.89      0.88   2578338\n",
            "weighted avg       0.89      0.88      0.88   2578338\n",
            "\n"
          ]
        }
      ],
      "source": [
        "evaluate_model(model, train_X, train_y)"
      ]
    },
    {
      "cell_type": "markdown",
      "metadata": {
        "id": "PFQ-MrX3Pop5"
      },
      "source": [
        "### Testing"
      ]
    },
    {
      "cell_type": "code",
      "execution_count": null,
      "metadata": {
        "colab": {
          "base_uri": "https://localhost:8080/"
        },
        "id": "FJ_gLQuLPop5",
        "outputId": "f2245d16-aea6-44ce-eb18-c56f7ecf8512"
      },
      "outputs": [
        {
          "name": "stdout",
          "output_type": "stream",
          "text": [
            "Accuracy: 0.87\n",
            "[[523621  29953]\n",
            " [108694 444880]]\n",
            "              precision    recall  f1-score   support\n",
            "\n",
            "           0       0.95      0.83      0.88    632315\n",
            "           1       0.80      0.94      0.87    474833\n",
            "\n",
            "    accuracy                           0.87   1107148\n",
            "   macro avg       0.87      0.88      0.87   1107148\n",
            "weighted avg       0.88      0.87      0.88   1107148\n",
            "\n"
          ]
        }
      ],
      "source": [
        "evaluate_model(model, test_X, test_y)"
      ]
    },
    {
      "cell_type": "code",
      "execution_count": null,
      "metadata": {
        "colab": {
          "base_uri": "https://localhost:8080/",
          "height": 313
        },
        "id": "dwfh1wW_Pop5",
        "outputId": "1cd79a04-7b8e-40ee-c573-8427e8e7f038"
      },
      "outputs": [
        {
          "name": "stderr",
          "output_type": "stream",
          "text": [
            "No handles with labels found to put in legend.\n"
          ]
        },
        {
          "data": {
            "image/png": "[encoded data removed]",
            "text/plain": [
              "<Figure size 432x288 with 1 Axes>"
            ]
          },
          "metadata": {
            "needs_background": "light"
          },
          "output_type": "display_data"
        }
      ],
      "source": [
        "plot_roc_auc(model, test_X, test_y)"
      ]
    }
  ],
  "metadata": {
    "colab": {
      "collapsed_sections": [],
      "name": "ML LR+DT+RF",
      "provenance": []
    },
    "kernelspec": {
      "display_name": "Python 3",
      "name": "python3"
    },
    "language_info": {
      "name": "python"
    }
  },
  "nbformat": 4,
  "nbformat_minor": 0
}
