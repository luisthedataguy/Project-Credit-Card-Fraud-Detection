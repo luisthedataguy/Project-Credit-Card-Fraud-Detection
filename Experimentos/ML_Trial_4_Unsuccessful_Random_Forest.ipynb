{
  "nbformat": 4,
  "nbformat_minor": 0,
  "metadata": {
    "colab": {
      "name": "ML_Trial_4_Unsuccessful_Random_Forest",
      "provenance": [],
      "collapsed_sections": []
    },
    "kernelspec": {
      "name": "python3",
      "display_name": "Python 3"
    },
    "language_info": {
      "name": "python"
    }
  },
  "cells": [
    {
      "cell_type": "code",
      "execution_count": null,
      "metadata": {
        "id": "Rzg6kNbSS35X"
      },
      "outputs": [],
      "source": [
        "!mkdir -p ~/.kaggle\n",
        "!touch ~/.kaggle/kaggle.json\n",
        "!chmod 600 ~/.kaggle/kaggle.json\n",
        "!echo '{\"username\":\"YOUR-USERNAME\",\"key\":\"YOUR-API-KEY\"}' > ~/.kaggle/kaggle.json"
      ]
    },
    {
      "cell_type": "code",
      "source": [
        "!kaggle datasets download -d kartik2112/fraud-detection\n",
        "!unzip -o fraud-detection.zip"
      ],
      "metadata": {
        "colab": {
          "base_uri": "https://localhost:8080/"
        },
        "id": "khMxyxhCS-f2",
        "outputId": "0154150f-8fb4-49c7-9a4f-825ced3f2767"
      },
      "execution_count": null,
      "outputs": [
        {
          "output_type": "stream",
          "name": "stdout",
          "text": [
            "Downloading fraud-detection.zip to /content\n",
            " 97% 196M/202M [00:04<00:00, 51.3MB/s]\n",
            "100% 202M/202M [00:04<00:00, 43.9MB/s]\n",
            "Archive:  fraud-detection.zip\n",
            "  inflating: fraudTest.csv           \n",
            "  inflating: fraudTrain.csv          \n"
          ]
        }
      ]
    },
    {
      "cell_type": "code",
      "source": [
        "import pandas as pd\n",
        "import numpy as np\n",
        "import matplotlib.pyplot as plt\n",
        "import seaborn as sns\n",
        "\n",
        "master_df = pd.read_csv('fraudTrain.csv', index_col=0)"
      ],
      "metadata": {
        "id": "4XIEMvgmTGu7"
      },
      "execution_count": null,
      "outputs": []
    },
    {
      "cell_type": "code",
      "source": [
        "train_x = master_df\n",
        "train_x.reset_index(drop=True, inplace=True)\n",
        "train_y = train_x['is_fraud']"
      ],
      "metadata": {
        "id": "2L8D6VSQiOkz"
      },
      "execution_count": null,
      "outputs": []
    },
    {
      "cell_type": "code",
      "source": [
        "# Source: https://stackoverflow.com/a/29546836/6948907\n",
        "\n",
        "def haversine_np(lon1, lat1, lon2, lat2):\n",
        "    \"\"\"\n",
        "    Calculate the great circle distance between two points\n",
        "    on the earth (specified in decimal degrees)\n",
        "    All args must be of equal length.    \n",
        "\n",
        "    \"\"\"\n",
        "    lon1, lat1, lon2, lat2 = map(np.radians, [lon1, lat1, lon2, lat2])\n",
        "\n",
        "    dlon = lon2 - lon1\n",
        "    dlat = lat2 - lat1\n",
        "\n",
        "    a = np.sin(dlat/2.0)**2 + np.cos(lat1) * np.cos(lat2) * np.sin(dlon/2.0)**2\n",
        "\n",
        "    c = 2 * np.arcsin(np.sqrt(a))\n",
        "    km = 6367 * c\n",
        "    return km"
      ],
      "metadata": {
        "id": "QLZW6g77Tbgk"
      },
      "execution_count": null,
      "outputs": []
    },
    {
      "cell_type": "code",
      "source": [
        "def is_weekend(txn_time):\n",
        "    return int(txn_time.weekday() >= 5)\n",
        "\n",
        "def is_night(txn_time):\n",
        "    return int(txn_time.hour <= 6 or txn_time.hour >= 22)"
      ],
      "metadata": {
        "id": "0f5mDAKGTevz"
      },
      "execution_count": null,
      "outputs": []
    },
    {
      "cell_type": "code",
      "source": [
        "def get_txn_history(txns, windows=[7, 15, 30, 60]):\n",
        "    txns = txns.sort_values('trans_date_trans_time')\n",
        "    txns.index = txns.trans_date_trans_time\n",
        "    \n",
        "    for window in windows:\n",
        "        total_amt = txns['amt'].rolling(window, min_periods = 1).sum()\n",
        "        count_amt = txns['amt'].rolling(window, min_periods = 1).count()\n",
        "\n",
        "        avg_amt = total_amt/count_amt\n",
        "\n",
        "        txns[f'count_amt_{window}_days'] = list(count_amt)\n",
        "        txns[f'count_avg_{window}_days'] = list(avg_amt)\n",
        "\n",
        "    txns.reset_index(drop = True)\n",
        "    return txns"
      ],
      "metadata": {
        "id": "Tn5qpeKUTgvq"
      },
      "execution_count": null,
      "outputs": []
    },
    {
      "cell_type": "code",
      "source": [
        "from sklearn.preprocessing import OneHotEncoder, OrdinalEncoder, MinMaxScaler\n",
        "from sklearn.decomposition import PCA\n",
        "\n",
        "from imblearn.over_sampling import SMOTE\n",
        "from imblearn.under_sampling import RandomUnderSampler\n",
        "\n",
        "class Transformer:\n",
        "    def __init__(self):\n",
        "        self.cat_ohe = OneHotEncoder(handle_unknown='ignore')\n",
        "        self.merchant_oe = OrdinalEncoder(handle_unknown='use_encoded_value', unknown_value=-1)\n",
        "        self.job_oe = OrdinalEncoder(handle_unknown='use_encoded_value', unknown_value=-1)\n",
        "        self.zip_fraud_count = {}\n",
        "        self.job_fraud_count = {}\n",
        "        self.sm = SMOTE()\n",
        "        self.rus = RandomUnderSampler()\n",
        "\n",
        "    def fit_encoders(self, df):\n",
        "        self.cat_ohe.fit(df[\"category\"].values.reshape(-1, 1))\n",
        "        self.merchant_oe.fit(df[\"merchant\"].values.reshape(-1, 1))\n",
        "        self.job_oe.fit(df[\"job\"].values.reshape(-1, 1))\n",
        "        \n",
        "    def fit_zip_score(self, df, y):\n",
        "        for idx, zip in df['zip'].iteritems():\n",
        "            if y[idx] == 1:\n",
        "                if zip in self.zip_fraud_count:\n",
        "                    self.zip_fraud_count[zip] += 1\n",
        "                else:\n",
        "                    self.zip_fraud_count[zip] = 1\n",
        "            else:\n",
        "                if not zip in self.zip_fraud_count:\n",
        "                    self.zip_fraud_count[zip] = 0\n",
        "\n",
        "    def fit_job_score(self, df, y):\n",
        "        for idx, job in df['job'].iteritems():\n",
        "            if y[idx] == 1:\n",
        "                if job in self.job_fraud_count:\n",
        "                    self.job_fraud_count[job] += 1\n",
        "                else:\n",
        "                    self.job_fraud_count[job] = 1\n",
        "            else:\n",
        "                if not job in self.job_fraud_count:\n",
        "                    self.job_fraud_count[job] = 0\n",
        "\n",
        "    def fit(self, df, y):\n",
        "        self.fit_encoders(df)\n",
        "        self.fit_zip_score(df, y)\n",
        "        self.fit_job_score(df, y)\n",
        "\n",
        "    def encode_categorical(self, df):\n",
        "        ohe_df = pd.DataFrame(self.cat_ohe.transform(df['category'].values.reshape(-1, 1)).toarray())\n",
        "        df = df.join(ohe_df)\n",
        "\n",
        "        df['merchant'] = df['merchant'].apply(lambda name : name.replace(\"fraud_\", \"\"))\n",
        "        df['merchant_oe'] = self.merchant_oe.transform(df['merchant'].values.reshape(-1, 1)).ravel()\n",
        "\n",
        "        return df\n",
        "\n",
        "    def transform(self, df, y):\n",
        "        df = df.groupby('cc_num').apply(lambda x: get_txn_history(x, windows_size_in_days=[1,7,15,30]))\n",
        "        df.reset_index(drop=True, inplace = True)\n",
        "        df = df.sort_values('trans_date_trans_time')\n",
        "\n",
        "        df['gender'] = df['gender'].transform(lambda g: 1 if g == 'F' else 0)\n",
        "        df['distance_bet_user_merchant'] = haversine_np(df['lat'],df['long'],df['merch_lat'],df['merch_long'])\n",
        "        df['trans_date_trans_time'] = pd.to_datetime(df['trans_date_trans_time'])\n",
        "        df['dob'] = pd.to_datetime(df['dob'])\n",
        "        df['user_age'] = (df['trans_date_trans_time'] - df['dob']).astype('<m8[Y]').apply(pd.to_numeric)\n",
        "        df['txn_at_night'] = df['trans_date_trans_time'].apply(lambda txn_time: is_night(txn_time))\n",
        "        df['txn_on_weekend'] = df['trans_date_trans_time'].apply(lambda txn_time: is_weekend(txn_time))\n",
        "\n",
        "        df['zip_score']= df['zip'].apply(lambda zip: self.zip_fraud_count.get(zip, 0))\n",
        "        df['job_score']= df['job'].apply(lambda job: self.job_fraud_count.get(job, 0))\n",
        "\n",
        "        df.drop(axis=1, inplace=True, columns=[\n",
        "                'trans_num', 'street', 'first', 'last', 'unix_time', 'city', 'state',\n",
        "                'trans_date_trans_time', 'dob', 'job', 'cc_num', 'is_fraud', 'category', 'merchant',\n",
        "                'zip', 'lat', 'long', 'merch_lat', 'merch_long',\n",
        "            ]\n",
        "        )\n",
        "\n",
        "        return df\n",
        "\n",
        "    def oversample(self, x, y):\n",
        "        return self.sm.fit_resample(x, y.ravel())\n",
        "\n",
        "    def undersample(self, x, y):\n",
        "        return self.rus.fit_resample(x, y.ravel())"
      ],
      "metadata": {
        "id": "AA55bPcUTiJW"
      },
      "execution_count": null,
      "outputs": []
    },
    {
      "cell_type": "code",
      "source": [
        "transformer = Transformer()\n",
        "transformer.fit(train_x, train_y)\n",
        "train_x = transformer.encode_categorical(train_x)\n",
        "train_x = transformer.transform(train_x, train_y)\n",
        "\n",
        "fig, (ax1, ax2) = plt.subplots(ncols = 2, figsize =(15, 5))\n",
        "ax1.set_title('Before random undersampling')\n",
        "pd.Series(train_y).value_counts().plot.bar(ax=ax1)\n",
        "\n",
        "train_x, train_y = transformer.oversample(train_x, train_y)\n",
        "\n",
        "ax2.set_title('After random undersampling')  \n",
        "pd.Series(train_y).value_counts().plot.bar(ax=ax2)\n",
        "\n",
        "plt.show()"
      ],
      "metadata": {
        "id": "y0rA4W0JWQjS",
        "colab": {
          "base_uri": "https://localhost:8080/",
          "height": 387
        },
        "outputId": "214e62a0-4ad3-4441-ac30-0e29de6e6c35"
      },
      "execution_count": null,
      "outputs": [
        {
          "output_type": "stream",
          "name": "stderr",
          "text": [
            "/usr/local/lib/python3.7/dist-packages/sklearn/utils/validation.py:1692: FutureWarning: Feature names only support names that are all strings. Got feature names with dtypes: ['int', 'str']. An error will be raised in 1.2.\n",
            "  FutureWarning,\n"
          ]
        },
        {
          "output_type": "display_data",
          "data": {
            "text/plain": [
              "<Figure size 1080x360 with 2 Axes>"
            ],
            "image/png": "[encoded data removed]"
          },
          "metadata": {
            "needs_background": "light"
          }
        }
      ]
    },
    {
      "cell_type": "code",
      "source": [
        "from sklearn.ensemble import RandomForestClassifier\n",
        "from sklearn.model_selection import GridSearchCV\n",
        "\n",
        "MAX_ITER = 500\n",
        "randomForest = RandomForestClassifier(n_estimators=400)\n",
        "# parameters = {'max_depth':[3,5,10], 'min_samples_split' :[2,5,10]}\n",
        "# classifier = GridSearchCV(randomForest,parameters,  scoring='accuracy', cv=5)\n",
        "\n",
        "randomForest.fit(train_x, train_y)"
      ],
      "metadata": {
        "colab": {
          "base_uri": "https://localhost:8080/"
        },
        "id": "XB3hVB5UX5uf",
        "outputId": "c906241c-af23-46e3-bb62-443df6ff259b"
      },
      "execution_count": null,
      "outputs": [
        {
          "output_type": "stream",
          "name": "stderr",
          "text": [
            "/usr/local/lib/python3.7/dist-packages/sklearn/utils/validation.py:1692: FutureWarning: Feature names only support names that are all strings. Got feature names with dtypes: ['int', 'str']. An error will be raised in 1.2.\n",
            "  FutureWarning,\n"
          ]
        },
        {
          "output_type": "execute_result",
          "data": {
            "text/plain": [
              "RandomForestClassifier(n_estimators=400)"
            ]
          },
          "metadata": {},
          "execution_count": 156
        }
      ]
    },
    {
      "cell_type": "code",
      "source": [
        "from sklearn.metrics import confusion_matrix\n",
        "\n",
        "print(randomForest.score(train_x, train_y))\n",
        "print(confusion_matrix(train_y, randomForest.predict(train_x)))"
      ],
      "metadata": {
        "colab": {
          "base_uri": "https://localhost:8080/"
        },
        "id": "8jR08ppJYYPU",
        "outputId": "0c7ff362-925f-41f7-a328-dc3bb7fde3fb"
      },
      "execution_count": null,
      "outputs": [
        {
          "output_type": "stream",
          "name": "stderr",
          "text": [
            "/usr/local/lib/python3.7/dist-packages/sklearn/utils/validation.py:1692: FutureWarning: Feature names only support names that are all strings. Got feature names with dtypes: ['int', 'str']. An error will be raised in 1.2.\n",
            "  FutureWarning,\n"
          ]
        },
        {
          "output_type": "stream",
          "name": "stdout",
          "text": [
            "1.0\n"
          ]
        },
        {
          "output_type": "stream",
          "name": "stderr",
          "text": [
            "/usr/local/lib/python3.7/dist-packages/sklearn/utils/validation.py:1692: FutureWarning: Feature names only support names that are all strings. Got feature names with dtypes: ['int', 'str']. An error will be raised in 1.2.\n",
            "  FutureWarning,\n"
          ]
        },
        {
          "output_type": "stream",
          "name": "stdout",
          "text": [
            "[[1289169       0]\n",
            " [      0 1289169]]\n"
          ]
        }
      ]
    },
    {
      "cell_type": "code",
      "source": [
        "test_df = pd.read_csv('fraudTest.csv', index_col=0)\n",
        "test_y = test_df['is_fraud']"
      ],
      "metadata": {
        "id": "OdG1yAnUjA3v"
      },
      "execution_count": null,
      "outputs": []
    },
    {
      "cell_type": "code",
      "source": [
        "test_df, test_y = transformer.undersample(test_df, test_y)\n",
        "test_df = transformer.encode_categorical(test_df)\n",
        "test_df = transformer.transform(test_df, test_y)\n",
        "\n",
        "print(randomForest.score(test_df, test_y))\n",
        "confusion_matrix(test_y, randomForest.predict(test_df))"
      ],
      "metadata": {
        "colab": {
          "base_uri": "https://localhost:8080/"
        },
        "id": "zFdam84tj3Jo",
        "outputId": "9a5480d3-6a63-4376-9b8e-caa70fbfc11d"
      },
      "execution_count": null,
      "outputs": [
        {
          "output_type": "stream",
          "name": "stderr",
          "text": [
            "/usr/local/lib/python3.7/dist-packages/sklearn/utils/validation.py:1692: FutureWarning: Feature names only support names that are all strings. Got feature names with dtypes: ['int', 'str']. An error will be raised in 1.2.\n",
            "  FutureWarning,\n"
          ]
        },
        {
          "output_type": "stream",
          "name": "stdout",
          "text": [
            "0.5006993006993007\n"
          ]
        },
        {
          "output_type": "stream",
          "name": "stderr",
          "text": [
            "/usr/local/lib/python3.7/dist-packages/sklearn/utils/validation.py:1692: FutureWarning: Feature names only support names that are all strings. Got feature names with dtypes: ['int', 'str']. An error will be raised in 1.2.\n",
            "  FutureWarning,\n"
          ]
        },
        {
          "output_type": "execute_result",
          "data": {
            "text/plain": [
              "array([[2107,   38],\n",
              "       [2104,   41]])"
            ]
          },
          "metadata": {},
          "execution_count": 159
        }
      ]
    },
    {
      "cell_type": "code",
      "source": [
        "from sklearn.metrics import classification_report\n",
        "print(classification_report(randomForest.predict(test_df), test_y))"
      ],
      "metadata": {
        "id": "EABNqO81lFKn",
        "colab": {
          "base_uri": "https://localhost:8080/"
        },
        "outputId": "dd35abf0-0e45-45b9-dc20-d05a45d4d9fb"
      },
      "execution_count": null,
      "outputs": [
        {
          "output_type": "stream",
          "name": "stderr",
          "text": [
            "/usr/local/lib/python3.7/dist-packages/sklearn/utils/validation.py:1692: FutureWarning: Feature names only support names that are all strings. Got feature names with dtypes: ['int', 'str']. An error will be raised in 1.2.\n",
            "  FutureWarning,\n"
          ]
        },
        {
          "output_type": "stream",
          "name": "stdout",
          "text": [
            "              precision    recall  f1-score   support\n",
            "\n",
            "           0       0.98      0.50      0.66      4211\n",
            "           1       0.02      0.52      0.04        79\n",
            "\n",
            "    accuracy                           0.50      4290\n",
            "   macro avg       0.50      0.51      0.35      4290\n",
            "weighted avg       0.96      0.50      0.65      4290\n",
            "\n"
          ]
        }
      ]
    }
  ]
}