{
  "metadata": {
    "kernelspec": {
      "language": "python",
      "display_name": "Python 3",
      "name": "python3"
    },
    "language_info": {
      "pygments_lexer": "ipython3",
      "nbconvert_exporter": "python",
      "version": "3.6.4",
      "file_extension": ".py",
      "codemirror_mode": {
        "name": "ipython",
        "version": 3
      },
      "name": "python",
      "mimetype": "text/x-python"
    },
    "colab": {
      "name": "ML_Trial_5_Unsuccessful_Logistic_Regression_Undersampling.ipynb",
      "provenance": []
    }
  },
  "nbformat_minor": 0,
  "nbformat": 4,
  "cells": [
    {
      "cell_type": "markdown",
      "source": [
        "# I. Install and import libraries"
      ],
      "metadata": {
        "id": "sJ_uJ9wvER9N"
      }
    },
    {
      "cell_type": "code",
      "source": [
        "!mkdir -p ~/.kaggle\n",
        "!touch ~/.kaggle/kaggle.json\n",
        "!chmod 600 ~/.kaggle/kaggle.json\n",
        "!echo '{\"username\":\"YOUR-USERNAME\",\"key\":\"YOUR-API-KEY\"}' > ~/.kaggle/kaggle.json\n",
        "\n",
        "!kaggle datasets download -d kartik2112/fraud-detection\n",
        "!unzip -o fraud-detection.zip\n",
        "!pip install feature_engine imbalanced_learn\n",
        "\n",
        "import numpy as np\n",
        "import pandas as pd\n",
        "import matplotlib.pyplot as plt\n",
        "import seaborn as sns\n",
        "from imblearn.under_sampling import RandomUnderSampler\n",
        "from feature_engine.encoding import WoEEncoder, RareLabelEncoder\n",
        "from sklearn.ensemble import RandomForestClassifier\n",
        "from sklearn.model_selection import GridSearchCV\n",
        "import os"
      ],
      "metadata": {
        "colab": {
          "base_uri": "https://localhost:8080/"
        },
        "id": "JpK8ZwIbGLVE",
        "outputId": "59b73556-a6d3-40e7-a071-5873e263fa2a"
      },
      "execution_count": null,
      "outputs": [
        {
          "output_type": "stream",
          "name": "stdout",
          "text": [
            "Downloading fraud-detection.zip to /content\n",
            " 99% 200M/202M [00:06<00:00, 49.5MB/s]\n",
            "100% 202M/202M [00:06<00:00, 32.5MB/s]\n",
            "Archive:  fraud-detection.zip\n",
            "  inflating: fraudTest.csv           \n",
            "  inflating: fraudTrain.csv          \n",
            "Collecting feature_engine\n",
            "  Downloading feature_engine-1.3.0-py2.py3-none-any.whl (260 kB)\n",
            "\u001b[K     |████████████████████████████████| 260 kB 4.3 MB/s \n",
            "\u001b[?25hRequirement already satisfied: imbalanced_learn in /usr/local/lib/python3.7/dist-packages (0.8.1)\n",
            "Collecting statsmodels>=0.11.1\n",
            "  Downloading statsmodels-0.13.2-cp37-cp37m-manylinux_2_17_x86_64.manylinux2014_x86_64.whl (9.8 MB)\n",
            "\u001b[K     |████████████████████████████████| 9.8 MB 20.3 MB/s \n",
            "\u001b[?25hRequirement already satisfied: scikit-learn>=1.0.0 in /usr/local/lib/python3.7/dist-packages (from feature_engine) (1.0.2)\n",
            "Requirement already satisfied: pandas>=1.0.3 in /usr/local/lib/python3.7/dist-packages (from feature_engine) (1.3.5)\n",
            "Requirement already satisfied: numpy>=1.18.2 in /usr/local/lib/python3.7/dist-packages (from feature_engine) (1.21.6)\n",
            "Requirement already satisfied: scipy>=1.4.1 in /usr/local/lib/python3.7/dist-packages (from feature_engine) (1.4.1)\n",
            "Requirement already satisfied: python-dateutil>=2.7.3 in /usr/local/lib/python3.7/dist-packages (from pandas>=1.0.3->feature_engine) (2.8.2)\n",
            "Requirement already satisfied: pytz>=2017.3 in /usr/local/lib/python3.7/dist-packages (from pandas>=1.0.3->feature_engine) (2022.1)\n",
            "Requirement already satisfied: six>=1.5 in /usr/local/lib/python3.7/dist-packages (from python-dateutil>=2.7.3->pandas>=1.0.3->feature_engine) (1.15.0)\n",
            "Requirement already satisfied: joblib>=0.11 in /usr/local/lib/python3.7/dist-packages (from scikit-learn>=1.0.0->feature_engine) (1.1.0)\n",
            "Requirement already satisfied: threadpoolctl>=2.0.0 in /usr/local/lib/python3.7/dist-packages (from scikit-learn>=1.0.0->feature_engine) (3.1.0)\n",
            "Requirement already satisfied: patsy>=0.5.2 in /usr/local/lib/python3.7/dist-packages (from statsmodels>=0.11.1->feature_engine) (0.5.2)\n",
            "Requirement already satisfied: packaging>=21.3 in /usr/local/lib/python3.7/dist-packages (from statsmodels>=0.11.1->feature_engine) (21.3)\n",
            "Requirement already satisfied: pyparsing!=3.0.5,>=2.0.2 in /usr/local/lib/python3.7/dist-packages (from packaging>=21.3->statsmodels>=0.11.1->feature_engine) (3.0.8)\n",
            "Installing collected packages: statsmodels, feature-engine\n",
            "  Attempting uninstall: statsmodels\n",
            "    Found existing installation: statsmodels 0.10.2\n",
            "    Uninstalling statsmodels-0.10.2:\n",
            "      Successfully uninstalled statsmodels-0.10.2\n",
            "Successfully installed feature-engine-1.3.0 statsmodels-0.13.2\n"
          ]
        }
      ]
    },
    {
      "cell_type": "code",
      "source": [
        "column_dtypes = {\n",
        "    'cc_num':'object',\n",
        "    'zip': 'object'\n",
        "}\n",
        "\n",
        "df = pd.read_csv('fraudTrain.csv', index_col=0, dtype=column_dtypes, parse_dates=['trans_date_trans_time', 'dob'])"
      ],
      "metadata": {
        "id": "wFuQtSwoGOw0"
      },
      "execution_count": null,
      "outputs": []
    },
    {
      "cell_type": "code",
      "source": [
        "X = df.copy()\n",
        "y = X.pop('is_fraud')"
      ],
      "metadata": {
        "id": "WQID3cVRGWvv"
      },
      "execution_count": null,
      "outputs": []
    },
    {
      "cell_type": "markdown",
      "source": [
        "#  II. Load the dataset"
      ],
      "metadata": {
        "id": "Ah38cx3eER9P"
      }
    },
    {
      "cell_type": "code",
      "source": [
        "pd.set_option('display.max_columns', None)"
      ],
      "metadata": {
        "execution": {
          "iopub.status.busy": "2022-04-07T19:54:08.106515Z",
          "iopub.execute_input": "2022-04-07T19:54:08.106785Z",
          "iopub.status.idle": "2022-04-07T19:54:08.117609Z",
          "shell.execute_reply.started": "2022-04-07T19:54:08.106752Z",
          "shell.execute_reply": "2022-04-07T19:54:08.116979Z"
        },
        "trusted": true,
        "id": "lkMM-hNAER9P"
      },
      "execution_count": null,
      "outputs": []
    },
    {
      "cell_type": "markdown",
      "source": [
        "# III. EDA and feature engineering"
      ],
      "metadata": {
        "id": "miLne6PBER9Q"
      }
    },
    {
      "cell_type": "code",
      "source": [
        "# Source: https://stackoverflow.com/a/29546836/6948907\n",
        "\n",
        "def haversine_np(lon1, lat1, lon2, lat2):\n",
        "    \"\"\"\n",
        "    Calculate the great circle distance between two points\n",
        "    on the earth (specified in decimal degrees)\n",
        "    All args must be of equal length.    \n",
        "\n",
        "    \"\"\"\n",
        "    lon1, lat1, lon2, lat2 = map(np.radians, [lon1, lat1, lon2, lat2])\n",
        "\n",
        "    dlon = lon2 - lon1\n",
        "    dlat = lat2 - lat1\n",
        "\n",
        "    a = np.sin(dlat/2.0)**2 + np.cos(lat1) * np.cos(lat2) * np.sin(dlon/2.0)**2\n",
        "\n",
        "    c = 2 * np.arcsin(np.sqrt(a))\n",
        "    km = 6367 * c\n",
        "    return km\n",
        "\n",
        "def is_weekend(txn_time):\n",
        "    return int(txn_time.weekday() >= 5)\n",
        "\n",
        "def is_night(txn_time):\n",
        "    return int(txn_time.hour <= 6 or txn_time.hour >= 22)\n",
        "\n",
        "def get_txn_history(txns, windows=[7, 15, 30, 60]):\n",
        "    txns = txns.sort_values('trans_date_trans_time')\n",
        "    txns.index = txns.trans_date_trans_time\n",
        "    \n",
        "    for window in windows:\n",
        "        total_amt = txns['amt'].rolling(window, min_periods = 1).sum()\n",
        "        count_amt = txns['amt'].rolling(window, min_periods = 1).count()\n",
        "\n",
        "        avg_amt = total_amt/count_amt\n",
        "\n",
        "        txns[f'count_amt_{window}_days'] = list(count_amt)\n",
        "        txns[f'count_avg_{window}_days'] = list(avg_amt)\n",
        "\n",
        "    txns.reset_index(drop = True)\n",
        "    return txns"
      ],
      "metadata": {
        "id": "ZIey3q0hG5Yt"
      },
      "execution_count": null,
      "outputs": []
    },
    {
      "cell_type": "code",
      "source": [
        "from sklearn.preprocessing import OneHotEncoder, OrdinalEncoder, MinMaxScaler\n",
        "from imblearn.over_sampling import SMOTE\n",
        "from sklearn.decomposition import PCA\n",
        "\n",
        "class Transformer:\n",
        "    def __init__(self):\n",
        "        self.zip_fraud_count = {}\n",
        "        self.job_fraud_count = {}\n",
        "        self.merchant_fraud_count = {}\n",
        "        self.sm = SMOTE()\n",
        "\n",
        "        \n",
        "    def fit_zip_score(self, df, y):\n",
        "        for idx, zip in df['zip'].iteritems():\n",
        "            if y[idx] == 1:\n",
        "                if zip in self.zip_fraud_count:\n",
        "                    self.zip_fraud_count[zip] += 1\n",
        "                else:\n",
        "                    self.zip_fraud_count[zip] = 1\n",
        "            else:\n",
        "                if not zip in self.zip_fraud_count:\n",
        "                    self.zip_fraud_count[zip] = 0\n",
        "\n",
        "    def fit_job_score(self, df, y):\n",
        "        for idx, job in df['job'].iteritems():\n",
        "            if y[idx] == 1:\n",
        "                if job in self.job_fraud_count:\n",
        "                    self.job_fraud_count[job] += 1\n",
        "                else:\n",
        "                    self.job_fraud_count[job] = 1\n",
        "            else:\n",
        "                if not job in self.job_fraud_count:\n",
        "                    self.job_fraud_count[job] = 0\n",
        "\n",
        "    def fit_merchant_score(self, df, y):\n",
        "        for idx, merchant in df['merchant'].iteritems():\n",
        "            if y[idx] == 1:\n",
        "                if merchant in self.merchant_fraud_count:\n",
        "                    self.merchant_fraud_count[merchant] += 1\n",
        "                else:\n",
        "                    self.merchant_fraud_count[merchant] = 1\n",
        "            else:\n",
        "                if not merchant in self.merchant_fraud_count:\n",
        "                    self.merchant_fraud_count[merchant] = 0\n",
        "\n",
        "    def fit(self, df, y):\n",
        "        self.fit_zip_score(df, y)\n",
        "        self.fit_job_score(df, y)\n",
        "        self.fit_merchant_score(df, y)\n",
        "\n",
        "    def transform(self, df):\n",
        "        df = df.groupby('cc_num').apply(lambda x: get_txn_history(x, windows=[1,7,15,30, 60]))\n",
        "        df.reset_index(drop=True, inplace = True)\n",
        "        df = df.sort_values('trans_date_trans_time')\n",
        "\n",
        "        df['distance_bet_user_merchant'] = haversine_np(df['lat'],df['long'],df['merch_lat'],df['merch_long'])\n",
        "        df['user_age'] = (df['trans_date_trans_time'] - df['dob']).astype('<m8[Y]').apply(pd.to_numeric)\n",
        "        df['txn_at_night'] = df['trans_date_trans_time'].apply(lambda txn_time: is_night(txn_time))\n",
        "        df['txn_on_weekend'] = df['trans_date_trans_time'].apply(lambda txn_time: is_weekend(txn_time))\n",
        "        df['zip_score']= df['zip'].apply(lambda zip: self.zip_fraud_count.get(zip, 0))\n",
        "        df['job_score']= df['job'].apply(lambda job: self.job_fraud_count.get(job, 0))\n",
        "        df['merchant_count'] = df['merchant'].apply(lambda merchant: self.merchant_fraud_count.get(merchant, 0))\n",
        "\n",
        "        df.drop(axis=1, inplace=True, columns=[\n",
        "                    'trans_num', 'street', 'first', 'last', 'unix_time', 'city', 'state',\n",
        "                    'trans_date_trans_time', 'dob',  'cc_num', 'zip', 'merchant'\n",
        "                ]\n",
        "            )\n",
        "        return df\n",
        "\n",
        "    def oversample(self, x, y):\n",
        "        return self.sm.fit_resample(x, y.ravel())\n",
        "\n",
        "transformer = Transformer()\n",
        "transformer.fit(X, y)\n",
        "X = transformer.transform(X)\n"
      ],
      "metadata": {
        "execution": {
          "iopub.status.busy": "2022-04-07T19:54:19.850511Z",
          "iopub.execute_input": "2022-04-07T19:54:19.850834Z",
          "iopub.status.idle": "2022-04-07T19:54:19.885253Z",
          "shell.execute_reply.started": "2022-04-07T19:54:19.850806Z",
          "shell.execute_reply": "2022-04-07T19:54:19.884514Z"
        },
        "trusted": true,
        "id": "X2iA5zQvER9Q"
      },
      "execution_count": null,
      "outputs": []
    },
    {
      "cell_type": "code",
      "source": [
        "y.value_counts()"
      ],
      "metadata": {
        "execution": {
          "iopub.status.busy": "2022-04-07T19:55:56.406318Z",
          "iopub.execute_input": "2022-04-07T19:55:56.406559Z",
          "iopub.status.idle": "2022-04-07T19:55:56.424221Z",
          "shell.execute_reply.started": "2022-04-07T19:55:56.406531Z",
          "shell.execute_reply": "2022-04-07T19:55:56.423244Z"
        },
        "trusted": true,
        "colab": {
          "base_uri": "https://localhost:8080/"
        },
        "id": "3gmWvn7GER9R",
        "outputId": "faf309a5-ae8d-470b-9778-0d693b5b023f"
      },
      "execution_count": null,
      "outputs": [
        {
          "output_type": "execute_result",
          "data": {
            "text/plain": [
              "0    1289169\n",
              "1       7506\n",
              "Name: is_fraud, dtype: int64"
            ]
          },
          "metadata": {},
          "execution_count": 9
        }
      ]
    },
    {
      "cell_type": "code",
      "source": [
        "X.head()"
      ],
      "metadata": {
        "execution": {
          "iopub.status.busy": "2022-04-07T19:55:56.425815Z",
          "iopub.execute_input": "2022-04-07T19:55:56.426182Z",
          "iopub.status.idle": "2022-04-07T19:55:56.453317Z",
          "shell.execute_reply.started": "2022-04-07T19:55:56.426139Z",
          "shell.execute_reply": "2022-04-07T19:55:56.451862Z"
        },
        "trusted": true,
        "colab": {
          "base_uri": "https://localhost:8080/",
          "height": 391
        },
        "id": "gT6ydGY9ER9R",
        "outputId": "3820d8a3-d2fe-4340-8e70-b86ba2824f9a"
      },
      "execution_count": null,
      "outputs": [
        {
          "output_type": "execute_result",
          "data": {
            "text/plain": [
              "              category     amt gender      lat      long  city_pop  \\\n",
              "151135        misc_net    4.97      F  36.0788  -81.1781      3495   \n",
              "1204733    grocery_pos  107.23      F  48.8878 -118.2105       149   \n",
              "652244   entertainment  220.11      M  42.1808 -112.2620      4154   \n",
              "383686   gas_transport   45.00      M  46.2306 -112.1138      1939   \n",
              "598484        misc_pos   41.96      M  38.4207  -79.4629        99   \n",
              "\n",
              "                                       job  merch_lat  merch_long  \\\n",
              "151135           Psychologist, counselling  36.011293  -82.048315   \n",
              "1204733  Special educational needs teacher  49.159047 -118.186462   \n",
              "652244         Nature conservation officer  43.150704 -112.154481   \n",
              "383686                     Patent attorney  47.034331 -112.561071   \n",
              "598484      Dance movement psychotherapist  38.674999  -78.632459   \n",
              "\n",
              "         count_amt_1_days  count_avg_1_days  count_amt_7_days  \\\n",
              "151135                1.0              4.97               1.0   \n",
              "1204733               1.0            107.23               1.0   \n",
              "652244                1.0            220.11               1.0   \n",
              "383686                1.0             45.00               1.0   \n",
              "598484                1.0             41.96               1.0   \n",
              "\n",
              "         count_avg_7_days  count_amt_15_days  count_avg_15_days  \\\n",
              "151135               4.97                1.0               4.97   \n",
              "1204733            107.23                1.0             107.23   \n",
              "652244             220.11                1.0             220.11   \n",
              "383686              45.00                1.0              45.00   \n",
              "598484              41.96                1.0              41.96   \n",
              "\n",
              "         count_amt_30_days  count_avg_30_days  count_amt_60_days  \\\n",
              "151135                 1.0               4.97                1.0   \n",
              "1204733                1.0             107.23                1.0   \n",
              "652244                 1.0             220.11                1.0   \n",
              "383686                 1.0              45.00                1.0   \n",
              "598484                 1.0              41.96                1.0   \n",
              "\n",
              "         count_avg_60_days  distance_bet_user_merchant  user_age  \\\n",
              "151135                4.97                   96.708914      30.0   \n",
              "1204733             107.23                   14.491400      40.0   \n",
              "652244              220.11                   42.453757      56.0   \n",
              "383686               45.00                   60.187449      51.0   \n",
              "598484               41.96                   92.438680      32.0   \n",
              "\n",
              "         txn_at_night  txn_on_weekend  zip_score  job_score  merchant_count  \n",
              "151135              1               0          0          6              18  \n",
              "1204733             1               0          0         11              27  \n",
              "652244              1               0          0          8               4  \n",
              "383686              1               0         15         20               9  \n",
              "598484              1               0          0          0               6  "
            ],
            "text/html": [
              "\n",
              "  <div id=\"df-31ea9f26-0022-4eb2-af5a-bf1d5a5b49c8\">\n",
              "    <div class=\"colab-df-container\">\n",
              "      <div>\n",
              "<style scoped>\n",
              "    .dataframe tbody tr th:only-of-type {\n",
              "        vertical-align: middle;\n",
              "    }\n",
              "\n",
              "    .dataframe tbody tr th {\n",
              "        vertical-align: top;\n",
              "    }\n",
              "\n",
              "    .dataframe thead th {\n",
              "        text-align: right;\n",
              "    }\n",
              "</style>\n",
              "<table border=\"1\" class=\"dataframe\">\n",
              "  <thead>\n",
              "    <tr style=\"text-align: right;\">\n",
              "      <th></th>\n",
              "      <th>category</th>\n",
              "      <th>amt</th>\n",
              "      <th>gender</th>\n",
              "      <th>lat</th>\n",
              "      <th>long</th>\n",
              "      <th>city_pop</th>\n",
              "      <th>job</th>\n",
              "      <th>merch_lat</th>\n",
              "      <th>merch_long</th>\n",
              "      <th>count_amt_1_days</th>\n",
              "      <th>count_avg_1_days</th>\n",
              "      <th>count_amt_7_days</th>\n",
              "      <th>count_avg_7_days</th>\n",
              "      <th>count_amt_15_days</th>\n",
              "      <th>count_avg_15_days</th>\n",
              "      <th>count_amt_30_days</th>\n",
              "      <th>count_avg_30_days</th>\n",
              "      <th>count_amt_60_days</th>\n",
              "      <th>count_avg_60_days</th>\n",
              "      <th>distance_bet_user_merchant</th>\n",
              "      <th>user_age</th>\n",
              "      <th>txn_at_night</th>\n",
              "      <th>txn_on_weekend</th>\n",
              "      <th>zip_score</th>\n",
              "      <th>job_score</th>\n",
              "      <th>merchant_count</th>\n",
              "    </tr>\n",
              "  </thead>\n",
              "  <tbody>\n",
              "    <tr>\n",
              "      <th>151135</th>\n",
              "      <td>misc_net</td>\n",
              "      <td>4.97</td>\n",
              "      <td>F</td>\n",
              "      <td>36.0788</td>\n",
              "      <td>-81.1781</td>\n",
              "      <td>3495</td>\n",
              "      <td>Psychologist, counselling</td>\n",
              "      <td>36.011293</td>\n",
              "      <td>-82.048315</td>\n",
              "      <td>1.0</td>\n",
              "      <td>4.97</td>\n",
              "      <td>1.0</td>\n",
              "      <td>4.97</td>\n",
              "      <td>1.0</td>\n",
              "      <td>4.97</td>\n",
              "      <td>1.0</td>\n",
              "      <td>4.97</td>\n",
              "      <td>1.0</td>\n",
              "      <td>4.97</td>\n",
              "      <td>96.708914</td>\n",
              "      <td>30.0</td>\n",
              "      <td>1</td>\n",
              "      <td>0</td>\n",
              "      <td>0</td>\n",
              "      <td>6</td>\n",
              "      <td>18</td>\n",
              "    </tr>\n",
              "    <tr>\n",
              "      <th>1204733</th>\n",
              "      <td>grocery_pos</td>\n",
              "      <td>107.23</td>\n",
              "      <td>F</td>\n",
              "      <td>48.8878</td>\n",
              "      <td>-118.2105</td>\n",
              "      <td>149</td>\n",
              "      <td>Special educational needs teacher</td>\n",
              "      <td>49.159047</td>\n",
              "      <td>-118.186462</td>\n",
              "      <td>1.0</td>\n",
              "      <td>107.23</td>\n",
              "      <td>1.0</td>\n",
              "      <td>107.23</td>\n",
              "      <td>1.0</td>\n",
              "      <td>107.23</td>\n",
              "      <td>1.0</td>\n",
              "      <td>107.23</td>\n",
              "      <td>1.0</td>\n",
              "      <td>107.23</td>\n",
              "      <td>14.491400</td>\n",
              "      <td>40.0</td>\n",
              "      <td>1</td>\n",
              "      <td>0</td>\n",
              "      <td>0</td>\n",
              "      <td>11</td>\n",
              "      <td>27</td>\n",
              "    </tr>\n",
              "    <tr>\n",
              "      <th>652244</th>\n",
              "      <td>entertainment</td>\n",
              "      <td>220.11</td>\n",
              "      <td>M</td>\n",
              "      <td>42.1808</td>\n",
              "      <td>-112.2620</td>\n",
              "      <td>4154</td>\n",
              "      <td>Nature conservation officer</td>\n",
              "      <td>43.150704</td>\n",
              "      <td>-112.154481</td>\n",
              "      <td>1.0</td>\n",
              "      <td>220.11</td>\n",
              "      <td>1.0</td>\n",
              "      <td>220.11</td>\n",
              "      <td>1.0</td>\n",
              "      <td>220.11</td>\n",
              "      <td>1.0</td>\n",
              "      <td>220.11</td>\n",
              "      <td>1.0</td>\n",
              "      <td>220.11</td>\n",
              "      <td>42.453757</td>\n",
              "      <td>56.0</td>\n",
              "      <td>1</td>\n",
              "      <td>0</td>\n",
              "      <td>0</td>\n",
              "      <td>8</td>\n",
              "      <td>4</td>\n",
              "    </tr>\n",
              "    <tr>\n",
              "      <th>383686</th>\n",
              "      <td>gas_transport</td>\n",
              "      <td>45.00</td>\n",
              "      <td>M</td>\n",
              "      <td>46.2306</td>\n",
              "      <td>-112.1138</td>\n",
              "      <td>1939</td>\n",
              "      <td>Patent attorney</td>\n",
              "      <td>47.034331</td>\n",
              "      <td>-112.561071</td>\n",
              "      <td>1.0</td>\n",
              "      <td>45.00</td>\n",
              "      <td>1.0</td>\n",
              "      <td>45.00</td>\n",
              "      <td>1.0</td>\n",
              "      <td>45.00</td>\n",
              "      <td>1.0</td>\n",
              "      <td>45.00</td>\n",
              "      <td>1.0</td>\n",
              "      <td>45.00</td>\n",
              "      <td>60.187449</td>\n",
              "      <td>51.0</td>\n",
              "      <td>1</td>\n",
              "      <td>0</td>\n",
              "      <td>15</td>\n",
              "      <td>20</td>\n",
              "      <td>9</td>\n",
              "    </tr>\n",
              "    <tr>\n",
              "      <th>598484</th>\n",
              "      <td>misc_pos</td>\n",
              "      <td>41.96</td>\n",
              "      <td>M</td>\n",
              "      <td>38.4207</td>\n",
              "      <td>-79.4629</td>\n",
              "      <td>99</td>\n",
              "      <td>Dance movement psychotherapist</td>\n",
              "      <td>38.674999</td>\n",
              "      <td>-78.632459</td>\n",
              "      <td>1.0</td>\n",
              "      <td>41.96</td>\n",
              "      <td>1.0</td>\n",
              "      <td>41.96</td>\n",
              "      <td>1.0</td>\n",
              "      <td>41.96</td>\n",
              "      <td>1.0</td>\n",
              "      <td>41.96</td>\n",
              "      <td>1.0</td>\n",
              "      <td>41.96</td>\n",
              "      <td>92.438680</td>\n",
              "      <td>32.0</td>\n",
              "      <td>1</td>\n",
              "      <td>0</td>\n",
              "      <td>0</td>\n",
              "      <td>0</td>\n",
              "      <td>6</td>\n",
              "    </tr>\n",
              "  </tbody>\n",
              "</table>\n",
              "</div>\n",
              "      <button class=\"colab-df-convert\" onclick=\"convertToInteractive('df-31ea9f26-0022-4eb2-af5a-bf1d5a5b49c8')\"\n",
              "              title=\"Convert this dataframe to an interactive table.\"\n",
              "              style=\"display:none;\">\n",
              "        \n",
              "  <svg xmlns=\"http://www.w3.org/2000/svg\" height=\"24px\"viewBox=\"0 0 24 24\"\n",
              "       width=\"24px\">\n",
              "    <path d=\"M0 0h24v24H0V0z\" fill=\"none\"/>\n",
              "    <path d=\"M18.56 5.44l.94 2.06.94-2.06 2.06-.94-2.06-.94-.94-2.06-.94 2.06-2.06.94zm-11 1L8.5 8.5l.94-2.06 2.06-.94-2.06-.94L8.5 2.5l-.94 2.06-2.06.94zm10 10l.94 2.06.94-2.06 2.06-.94-2.06-.94-.94-2.06-.94 2.06-2.06.94z\"/><path d=\"M17.41 7.96l-1.37-1.37c-.4-.4-.92-.59-1.43-.59-.52 0-1.04.2-1.43.59L10.3 9.45l-7.72 7.72c-.78.78-.78 2.05 0 2.83L4 21.41c.39.39.9.59 1.41.59.51 0 1.02-.2 1.41-.59l7.78-7.78 2.81-2.81c.8-.78.8-2.07 0-2.86zM5.41 20L4 18.59l7.72-7.72 1.47 1.35L5.41 20z\"/>\n",
              "  </svg>\n",
              "      </button>\n",
              "      \n",
              "  <style>\n",
              "    .colab-df-container {\n",
              "      display:flex;\n",
              "      flex-wrap:wrap;\n",
              "      gap: 12px;\n",
              "    }\n",
              "\n",
              "    .colab-df-convert {\n",
              "      background-color: #E8F0FE;\n",
              "      border: none;\n",
              "      border-radius: 50%;\n",
              "      cursor: pointer;\n",
              "      display: none;\n",
              "      fill: #1967D2;\n",
              "      height: 32px;\n",
              "      padding: 0 0 0 0;\n",
              "      width: 32px;\n",
              "    }\n",
              "\n",
              "    .colab-df-convert:hover {\n",
              "      background-color: #E2EBFA;\n",
              "      box-shadow: 0px 1px 2px rgba(60, 64, 67, 0.3), 0px 1px 3px 1px rgba(60, 64, 67, 0.15);\n",
              "      fill: #174EA6;\n",
              "    }\n",
              "\n",
              "    [theme=dark] .colab-df-convert {\n",
              "      background-color: #3B4455;\n",
              "      fill: #D2E3FC;\n",
              "    }\n",
              "\n",
              "    [theme=dark] .colab-df-convert:hover {\n",
              "      background-color: #434B5C;\n",
              "      box-shadow: 0px 1px 3px 1px rgba(0, 0, 0, 0.15);\n",
              "      filter: drop-shadow(0px 1px 2px rgba(0, 0, 0, 0.3));\n",
              "      fill: #FFFFFF;\n",
              "    }\n",
              "  </style>\n",
              "\n",
              "      <script>\n",
              "        const buttonEl =\n",
              "          document.querySelector('#df-31ea9f26-0022-4eb2-af5a-bf1d5a5b49c8 button.colab-df-convert');\n",
              "        buttonEl.style.display =\n",
              "          google.colab.kernel.accessAllowed ? 'block' : 'none';\n",
              "\n",
              "        async function convertToInteractive(key) {\n",
              "          const element = document.querySelector('#df-31ea9f26-0022-4eb2-af5a-bf1d5a5b49c8');\n",
              "          const dataTable =\n",
              "            await google.colab.kernel.invokeFunction('convertToInteractive',\n",
              "                                                     [key], {});\n",
              "          if (!dataTable) return;\n",
              "\n",
              "          const docLinkHtml = 'Like what you see? Visit the ' +\n",
              "            '<a target=\"_blank\" href=https://colab.research.google.com/notebooks/data_table.ipynb>data table notebook</a>'\n",
              "            + ' to learn more about interactive tables.';\n",
              "          element.innerHTML = '';\n",
              "          dataTable['output_type'] = 'display_data';\n",
              "          await google.colab.output.renderOutput(dataTable, element);\n",
              "          const docLink = document.createElement('div');\n",
              "          docLink.innerHTML = docLinkHtml;\n",
              "          element.appendChild(docLink);\n",
              "        }\n",
              "      </script>\n",
              "    </div>\n",
              "  </div>\n",
              "  "
            ]
          },
          "metadata": {},
          "execution_count": 10
        }
      ]
    },
    {
      "cell_type": "code",
      "source": [
        "rare_encoder = RareLabelEncoder(tol=0.005, n_categories=2, variables=['category','gender','job'])\n",
        "X_encoded = rare_encoder.fit_transform(X)\n",
        "woe_encoder = WoEEncoder(variables=['category','gender','job'])\n",
        "woe_encoder.fit(X_encoded , y)"
      ],
      "metadata": {
        "colab": {
          "base_uri": "https://localhost:8080/",
          "height": 407
        },
        "id": "oIWb66kMER9S",
        "outputId": "c40e4b6b-eff1-4e27-eb4c-c417195695e4"
      },
      "execution_count": null,
      "outputs": [
        {
          "output_type": "stream",
          "name": "stderr",
          "text": [
            "/usr/local/lib/python3.7/dist-packages/feature_engine/encoding/rare_label.py:177: UserWarning: The number of unique categories for variable gender is less than that indicated in n_categories. Thus, all categories will be considered frequent\n",
            "  \"considered frequent\".format(var)\n"
          ]
        },
        {
          "output_type": "error",
          "ename": "ValueError",
          "evalue": "ignored",
          "traceback": [
            "\u001b[0;31m---------------------------------------------------------------------------\u001b[0m",
            "\u001b[0;31mValueError\u001b[0m                                Traceback (most recent call last)",
            "\u001b[0;32m<ipython-input-11-19790fa8b6ab>\u001b[0m in \u001b[0;36m<module>\u001b[0;34m()\u001b[0m\n\u001b[1;32m      2\u001b[0m \u001b[0mX_encoded\u001b[0m \u001b[0;34m=\u001b[0m \u001b[0mrare_encoder\u001b[0m\u001b[0;34m.\u001b[0m\u001b[0mfit_transform\u001b[0m\u001b[0;34m(\u001b[0m\u001b[0mX\u001b[0m\u001b[0;34m)\u001b[0m\u001b[0;34m\u001b[0m\u001b[0;34m\u001b[0m\u001b[0m\n\u001b[1;32m      3\u001b[0m \u001b[0mwoe_encoder\u001b[0m \u001b[0;34m=\u001b[0m \u001b[0mWoEEncoder\u001b[0m\u001b[0;34m(\u001b[0m\u001b[0mvariables\u001b[0m\u001b[0;34m=\u001b[0m\u001b[0;34m[\u001b[0m\u001b[0;34m'category'\u001b[0m\u001b[0;34m,\u001b[0m\u001b[0;34m'gender'\u001b[0m\u001b[0;34m,\u001b[0m\u001b[0;34m'job'\u001b[0m\u001b[0;34m]\u001b[0m\u001b[0;34m)\u001b[0m\u001b[0;34m\u001b[0m\u001b[0;34m\u001b[0m\u001b[0m\n\u001b[0;32m----> 4\u001b[0;31m \u001b[0mwoe_encoder\u001b[0m\u001b[0;34m.\u001b[0m\u001b[0mfit\u001b[0m\u001b[0;34m(\u001b[0m\u001b[0mX_encoded\u001b[0m \u001b[0;34m,\u001b[0m \u001b[0my\u001b[0m\u001b[0;34m)\u001b[0m\u001b[0;34m\u001b[0m\u001b[0;34m\u001b[0m\u001b[0m\n\u001b[0m",
            "\u001b[0;32m/usr/local/lib/python3.7/dist-packages/feature_engine/encoding/woe.py\u001b[0m in \u001b[0;36mfit\u001b[0;34m(self, X, y)\u001b[0m\n\u001b[1;32m    139\u001b[0m         \"\"\"\n\u001b[1;32m    140\u001b[0m \u001b[0;34m\u001b[0m\u001b[0m\n\u001b[0;32m--> 141\u001b[0;31m         \u001b[0mX\u001b[0m\u001b[0;34m,\u001b[0m \u001b[0my\u001b[0m \u001b[0;34m=\u001b[0m \u001b[0mself\u001b[0m\u001b[0;34m.\u001b[0m\u001b[0m_check_X_y\u001b[0m\u001b[0;34m(\u001b[0m\u001b[0mX\u001b[0m\u001b[0;34m,\u001b[0m \u001b[0my\u001b[0m\u001b[0;34m)\u001b[0m\u001b[0;34m\u001b[0m\u001b[0;34m\u001b[0m\u001b[0m\n\u001b[0m\u001b[1;32m    142\u001b[0m \u001b[0;34m\u001b[0m\u001b[0m\n\u001b[1;32m    143\u001b[0m         \u001b[0;31m# check that y is binary\u001b[0m\u001b[0;34m\u001b[0m\u001b[0;34m\u001b[0m\u001b[0;34m\u001b[0m\u001b[0m\n",
            "\u001b[0;32m/usr/local/lib/python3.7/dist-packages/feature_engine/encoding/base_encoder.py\u001b[0m in \u001b[0;36m_check_X_y\u001b[0;34m(self, X, y)\u001b[0m\n\u001b[1;32m     63\u001b[0m         \u001b[0mself\u001b[0m\u001b[0;34m,\u001b[0m \u001b[0mX\u001b[0m\u001b[0;34m:\u001b[0m \u001b[0mpd\u001b[0m\u001b[0;34m.\u001b[0m\u001b[0mDataFrame\u001b[0m\u001b[0;34m,\u001b[0m \u001b[0my\u001b[0m\u001b[0;34m:\u001b[0m \u001b[0mpd\u001b[0m\u001b[0;34m.\u001b[0m\u001b[0mSeries\u001b[0m\u001b[0;34m\u001b[0m\u001b[0;34m\u001b[0m\u001b[0m\n\u001b[1;32m     64\u001b[0m     ) -> Tuple[pd.DataFrame, pd.Series]:\n\u001b[0;32m---> 65\u001b[0;31m         \u001b[0;32mreturn\u001b[0m \u001b[0mcheck_X_y\u001b[0m\u001b[0;34m(\u001b[0m\u001b[0mX\u001b[0m\u001b[0;34m,\u001b[0m \u001b[0my\u001b[0m\u001b[0;34m)\u001b[0m\u001b[0;34m\u001b[0m\u001b[0;34m\u001b[0m\u001b[0m\n\u001b[0m\u001b[1;32m     66\u001b[0m \u001b[0;34m\u001b[0m\u001b[0m\n\u001b[1;32m     67\u001b[0m     \u001b[0;32mdef\u001b[0m \u001b[0m_check_or_select_variables\u001b[0m\u001b[0;34m(\u001b[0m\u001b[0mself\u001b[0m\u001b[0;34m,\u001b[0m \u001b[0mX\u001b[0m\u001b[0;34m:\u001b[0m \u001b[0mpd\u001b[0m\u001b[0;34m.\u001b[0m\u001b[0mDataFrame\u001b[0m\u001b[0;34m)\u001b[0m\u001b[0;34m:\u001b[0m\u001b[0;34m\u001b[0m\u001b[0;34m\u001b[0m\u001b[0m\n",
            "\u001b[0;32m/usr/local/lib/python3.7/dist-packages/feature_engine/dataframe_checks.py\u001b[0m in \u001b[0;36mcheck_X_y\u001b[0;34m(X, y, multi_output, y_numeric)\u001b[0m\n\u001b[1;32m    189\u001b[0m         \u001b[0;31m# Check that their indexes match.\u001b[0m\u001b[0;34m\u001b[0m\u001b[0;34m\u001b[0m\u001b[0;34m\u001b[0m\u001b[0m\n\u001b[1;32m    190\u001b[0m         \u001b[0;32mif\u001b[0m \u001b[0;32mnot\u001b[0m \u001b[0mall\u001b[0m\u001b[0;34m(\u001b[0m\u001b[0my\u001b[0m\u001b[0;34m.\u001b[0m\u001b[0mindex\u001b[0m \u001b[0;34m==\u001b[0m \u001b[0mX\u001b[0m\u001b[0;34m.\u001b[0m\u001b[0mindex\u001b[0m\u001b[0;34m)\u001b[0m\u001b[0;34m:\u001b[0m\u001b[0;34m\u001b[0m\u001b[0;34m\u001b[0m\u001b[0m\n\u001b[0;32m--> 191\u001b[0;31m             \u001b[0;32mraise\u001b[0m \u001b[0mValueError\u001b[0m\u001b[0;34m(\u001b[0m\u001b[0;34m\"The indexes of X and y do not match.\"\u001b[0m\u001b[0;34m)\u001b[0m\u001b[0;34m\u001b[0m\u001b[0;34m\u001b[0m\u001b[0m\n\u001b[0m\u001b[1;32m    192\u001b[0m \u001b[0;34m\u001b[0m\u001b[0m\n\u001b[1;32m    193\u001b[0m     \u001b[0;31m# case 2: X is dataframe and y is something else\u001b[0m\u001b[0;34m\u001b[0m\u001b[0;34m\u001b[0m\u001b[0;34m\u001b[0m\u001b[0m\n",
            "\u001b[0;31mValueError\u001b[0m: The indexes of X and y do not match."
          ]
        }
      ]
    },
    {
      "cell_type": "code",
      "source": [
        "def transform_X(X):\n",
        "    X_encoded = rare_encoder.transform(X)\n",
        "    return woe_encoder.transform(X_encoded)"
      ],
      "metadata": {
        "execution": {
          "iopub.status.busy": "2022-04-07T19:55:58.940276Z",
          "iopub.execute_input": "2022-04-07T19:55:58.940891Z",
          "iopub.status.idle": "2022-04-07T19:55:58.945903Z",
          "shell.execute_reply.started": "2022-04-07T19:55:58.940845Z",
          "shell.execute_reply": "2022-04-07T19:55:58.944963Z"
        },
        "trusted": true,
        "id": "0fEf3ZOOER9S"
      },
      "execution_count": null,
      "outputs": []
    },
    {
      "cell_type": "code",
      "source": [
        "# woe_encoder.encoder_dict_\n",
        "fig, (ax1, ax2) = plt.subplots(ncols = 2, figsize =(15, 5))\n",
        "ax1.set_title('Before Undersampling')\n",
        "pd.Series(y).value_counts().plot.bar(ax=ax1)\n",
        "\n",
        "rus = RandomUnderSampler(random_state=42)\n",
        "X_resample, y_resample = rus.fit_resample(X,y)\n",
        "\n",
        "ax2.set_title('After Undersampling') \n",
        "pd.Series(y_resample).value_counts().plot.bar(ax=ax2)\n",
        "plt.show()"
      ],
      "metadata": {
        "execution": {
          "iopub.status.busy": "2022-04-07T19:55:58.94763Z",
          "iopub.execute_input": "2022-04-07T19:55:58.947959Z",
          "iopub.status.idle": "2022-04-07T19:55:58.960657Z",
          "shell.execute_reply.started": "2022-04-07T19:55:58.947896Z",
          "shell.execute_reply": "2022-04-07T19:55:58.959808Z"
        },
        "trusted": true,
        "id": "bM4S9PcvER9S",
        "colab": {
          "base_uri": "https://localhost:8080/",
          "height": 332
        },
        "outputId": "9739221b-3ede-479c-b1fb-3be690e1a4da"
      },
      "execution_count": null,
      "outputs": [
        {
          "output_type": "display_data",
          "data": {
            "text/plain": [
              "<Figure size 1080x360 with 2 Axes>"
            ],
            "image/png": "[encoded data removed]"
          },
          "metadata": {
            "needs_background": "light"
          }
        }
      ]
    },
    {
      "cell_type": "code",
      "source": [
        "# X_resample.head()"
      ],
      "metadata": {
        "execution": {
          "iopub.status.busy": "2022-04-07T20:26:50.737194Z",
          "iopub.execute_input": "2022-04-07T20:26:50.737871Z",
          "iopub.status.idle": "2022-04-07T20:26:50.755256Z",
          "shell.execute_reply.started": "2022-04-07T20:26:50.737828Z",
          "shell.execute_reply": "2022-04-07T20:26:50.754278Z"
        },
        "trusted": true,
        "id": "3acZFu5KER9S"
      },
      "execution_count": null,
      "outputs": []
    },
    {
      "cell_type": "code",
      "source": [
        "# X_resample['y'] = y_resample\n",
        "# X_resample.corr()['y'].abs().sort_values(ascending=False)"
      ],
      "metadata": {
        "execution": {
          "iopub.status.busy": "2022-04-07T20:26:01.476974Z",
          "iopub.execute_input": "2022-04-07T20:26:01.47799Z",
          "iopub.status.idle": "2022-04-07T20:26:01.500438Z",
          "shell.execute_reply.started": "2022-04-07T20:26:01.477902Z",
          "shell.execute_reply": "2022-04-07T20:26:01.499323Z"
        },
        "trusted": true,
        "id": "VlS6V-cYER9S"
      },
      "execution_count": null,
      "outputs": []
    },
    {
      "cell_type": "code",
      "source": [
        "# X = transform_X(X)\n",
        "\n",
        "# X_resample, y_resample = transformer.oversample(X, y)\n"
      ],
      "metadata": {
        "execution": {
          "iopub.status.busy": "2022-04-07T19:55:58.962092Z",
          "iopub.execute_input": "2022-04-07T19:55:58.962968Z",
          "iopub.status.idle": "2022-04-07T19:56:00.074538Z",
          "shell.execute_reply.started": "2022-04-07T19:55:58.962924Z",
          "shell.execute_reply": "2022-04-07T19:56:00.073652Z"
        },
        "trusted": true,
        "id": "g77p_nOsER9S"
      },
      "execution_count": null,
      "outputs": []
    },
    {
      "cell_type": "markdown",
      "source": [
        "# IV. Prepare data for modeling"
      ],
      "metadata": {
        "id": "-UUxhxGjER9S"
      }
    },
    {
      "cell_type": "code",
      "source": [
        "# Because there are not many records labeled 1, I will undersample to balance the data and reduce training time\n",
        "rus = RandomUnderSampler(random_state=42)\n",
        "X_resample, y_resample = rus.fit_resample(transform_X(X), y)"
      ],
      "metadata": {
        "execution": {
          "iopub.status.busy": "2022-04-07T19:56:00.079417Z",
          "iopub.execute_input": "2022-04-07T19:56:00.079773Z",
          "iopub.status.idle": "2022-04-07T19:56:01.614641Z",
          "shell.execute_reply.started": "2022-04-07T19:56:00.079727Z",
          "shell.execute_reply": "2022-04-07T19:56:01.613703Z"
        },
        "trusted": true,
        "id": "1znmqocMER9S"
      },
      "execution_count": null,
      "outputs": []
    },
    {
      "cell_type": "markdown",
      "source": [
        "# V. Train model"
      ],
      "metadata": {
        "id": "gL__YQqBER9S"
      }
    },
    {
      "cell_type": "code",
      "source": [
        "from sklearn.linear_model import LogisticRegression\n",
        "from sklearn.ensemble import RandomForestClassifier\n",
        "parameters = {'max_depth': [3, 5, 10],\n",
        "              'min_samples_split': [2, 5, 10]}\n",
        "clf = LogisticRegression()\n",
        "# clf = RandomForestClassifier()\n",
        "# clf = GridSearchCV(rf, paramteres, scoring='accuracy', cv=5)\n",
        "clf.fit(X_resample, y_resample)\n",
        "# rf.fit(X_resample, y_resample)\n"
      ],
      "metadata": {
        "execution": {
          "iopub.status.busy": "2022-04-07T19:58:11.417845Z",
          "iopub.execute_input": "2022-04-07T19:58:11.418142Z",
          "iopub.status.idle": "2022-04-07T19:58:11.79714Z",
          "shell.execute_reply.started": "2022-04-07T19:58:11.418113Z",
          "shell.execute_reply": "2022-04-07T19:58:11.796238Z"
        },
        "trusted": true,
        "colab": {
          "base_uri": "https://localhost:8080/"
        },
        "id": "xIsLQyb7ER9S",
        "outputId": "18d8b9e0-09ef-4c2d-8965-3c8856d4215c"
      },
      "execution_count": null,
      "outputs": [
        {
          "output_type": "stream",
          "name": "stderr",
          "text": [
            "/usr/local/lib/python3.7/dist-packages/sklearn/linear_model/_logistic.py:818: ConvergenceWarning: lbfgs failed to converge (status=1):\n",
            "STOP: TOTAL NO. of ITERATIONS REACHED LIMIT.\n",
            "\n",
            "Increase the number of iterations (max_iter) or scale the data as shown in:\n",
            "    https://scikit-learn.org/stable/modules/preprocessing.html\n",
            "Please also refer to the documentation for alternative solver options:\n",
            "    https://scikit-learn.org/stable/modules/linear_model.html#logistic-regression\n",
            "  extra_warning_msg=_LOGISTIC_SOLVER_CONVERGENCE_MSG,\n"
          ]
        },
        {
          "output_type": "execute_result",
          "data": {
            "text/plain": [
              "LogisticRegression()"
            ]
          },
          "metadata": {},
          "execution_count": 48
        }
      ]
    },
    {
      "cell_type": "markdown",
      "source": [
        "# VI. Test and plot results"
      ],
      "metadata": {
        "id": "tZ9dJCmsER9S"
      }
    },
    {
      "cell_type": "code",
      "source": [
        "df_test = pd.read_csv('fraudTest.csv', index_col=0, dtype=column_dtypes, parse_dates=['trans_date_trans_time', 'dob'])\n",
        "X_test = df_test.copy()\n",
        "y_test = X_test.pop('is_fraud')\n",
        "\n",
        "\n",
        "X_test = transformer.transform(X_test)\n",
        "X_test = transform_X(X_test)\n",
        "X_test_resample, y_test_resample = rus.fit_resample(X_test, y_test)"
      ],
      "metadata": {
        "execution": {
          "iopub.status.busy": "2022-04-07T19:59:00.556829Z",
          "iopub.execute_input": "2022-04-07T19:59:00.557864Z",
          "iopub.status.idle": "2022-04-07T19:59:00.567562Z",
          "shell.execute_reply.started": "2022-04-07T19:59:00.557814Z",
          "shell.execute_reply": "2022-04-07T19:59:00.566952Z"
        },
        "trusted": true,
        "id": "TR7zRPabER9T"
      },
      "execution_count": null,
      "outputs": []
    },
    {
      "cell_type": "code",
      "source": [
        "clf.score(X_test_resample, y_test_resample)"
      ],
      "metadata": {
        "execution": {
          "iopub.status.busy": "2022-04-07T19:59:10.153317Z",
          "iopub.execute_input": "2022-04-07T19:59:10.154144Z",
          "iopub.status.idle": "2022-04-07T19:59:10.171548Z",
          "shell.execute_reply.started": "2022-04-07T19:59:10.154099Z",
          "shell.execute_reply": "2022-04-07T19:59:10.170157Z"
        },
        "trusted": true,
        "id": "fzkNY6OKER9T",
        "colab": {
          "base_uri": "https://localhost:8080/"
        },
        "outputId": "c043d587-86e4-4e8f-b596-fd4ddbcbe1d0"
      },
      "execution_count": null,
      "outputs": [
        {
          "output_type": "execute_result",
          "data": {
            "text/plain": [
              "0.9030303030303031"
            ]
          },
          "metadata": {},
          "execution_count": 50
        }
      ]
    },
    {
      "cell_type": "code",
      "source": [
        "X_resample.head()"
      ],
      "metadata": {
        "colab": {
          "base_uri": "https://localhost:8080/",
          "height": 270
        },
        "id": "OXDOqsJl1zoh",
        "outputId": "9d80208f-4921-48ed-c62c-c3a5d16c8fa2"
      },
      "execution_count": null,
      "outputs": [
        {
          "output_type": "execute_result",
          "data": {
            "text/plain": [
              "   category    amt    gender      lat      long  city_pop       job  \\\n",
              "0 -0.005463  86.19 -0.010865  34.0287 -118.4924     92043 -0.011392   \n",
              "1 -0.077197  85.81 -0.010865  36.7154  -89.6287      1019 -0.011392   \n",
              "2  0.021281  99.30 -0.010865  39.9636  -79.7853       184 -0.160392   \n",
              "3 -0.112867  42.09 -0.010865  48.2777 -112.8456       743 -0.011392   \n",
              "4  0.057742   4.24 -0.010865  36.4715  -82.4834     87124 -0.011392   \n",
              "\n",
              "   merch_lat  merch_long  transactions_count_1day_window  \\\n",
              "0  33.287851 -118.740970                             1.0   \n",
              "1  36.539950  -89.857416                             1.0   \n",
              "2  39.582872  -78.838550                             1.0   \n",
              "3  48.310513 -112.837535                             1.0   \n",
              "4  37.329094  -82.070746                             1.0   \n",
              "\n",
              "   transactions_average1day_window  transactions_count_7day_window  \\\n",
              "0                            86.19                             7.0   \n",
              "1                            85.81                             7.0   \n",
              "2                            99.30                             7.0   \n",
              "3                            42.09                             7.0   \n",
              "4                             4.24                             7.0   \n",
              "\n",
              "   transactions_average7day_window  transactions_count_15day_window  \\\n",
              "0                       154.540000                             15.0   \n",
              "1                        51.678571                             15.0   \n",
              "2                        35.395714                             15.0   \n",
              "3                       115.751429                             15.0   \n",
              "4                        49.950000                             15.0   \n",
              "\n",
              "   transactions_average15day_window  transactions_count_30day_window  \\\n",
              "0                        117.767333                             30.0   \n",
              "1                         38.907333                             30.0   \n",
              "2                         44.594000                             30.0   \n",
              "3                         86.262667                             30.0   \n",
              "4                         65.408667                             30.0   \n",
              "\n",
              "   transactions_average30day_window  distance_bet_user_merchant  user_age  \\\n",
              "0                        170.607667                   48.142480      58.0   \n",
              "1                         41.390667                   25.416212      41.0   \n",
              "2                         53.058667                  105.499337      74.0   \n",
              "3                         58.992667                    1.675330      47.0   \n",
              "4                         77.575333                   47.609720      32.0   \n",
              "\n",
              "   txn_at_night  txn_on_weekend  zip_score  job_score  merchant_count  \n",
              "0             0               1          0         10               8  \n",
              "1             0               0         14         21               4  \n",
              "2             0               0          0         13              28  \n",
              "3             0               1          0          0               6  \n",
              "4             0               0          5         19              36  "
            ],
            "text/html": [
              "\n",
              "  <div id=\"df-9df767cb-2101-4c1b-81b1-2712cc6ad75a\">\n",
              "    <div class=\"colab-df-container\">\n",
              "      <div>\n",
              "<style scoped>\n",
              "    .dataframe tbody tr th:only-of-type {\n",
              "        vertical-align: middle;\n",
              "    }\n",
              "\n",
              "    .dataframe tbody tr th {\n",
              "        vertical-align: top;\n",
              "    }\n",
              "\n",
              "    .dataframe thead th {\n",
              "        text-align: right;\n",
              "    }\n",
              "</style>\n",
              "<table border=\"1\" class=\"dataframe\">\n",
              "  <thead>\n",
              "    <tr style=\"text-align: right;\">\n",
              "      <th></th>\n",
              "      <th>category</th>\n",
              "      <th>amt</th>\n",
              "      <th>gender</th>\n",
              "      <th>lat</th>\n",
              "      <th>long</th>\n",
              "      <th>city_pop</th>\n",
              "      <th>job</th>\n",
              "      <th>merch_lat</th>\n",
              "      <th>merch_long</th>\n",
              "      <th>transactions_count_1day_window</th>\n",
              "      <th>transactions_average1day_window</th>\n",
              "      <th>transactions_count_7day_window</th>\n",
              "      <th>transactions_average7day_window</th>\n",
              "      <th>transactions_count_15day_window</th>\n",
              "      <th>transactions_average15day_window</th>\n",
              "      <th>transactions_count_30day_window</th>\n",
              "      <th>transactions_average30day_window</th>\n",
              "      <th>distance_bet_user_merchant</th>\n",
              "      <th>user_age</th>\n",
              "      <th>txn_at_night</th>\n",
              "      <th>txn_on_weekend</th>\n",
              "      <th>zip_score</th>\n",
              "      <th>job_score</th>\n",
              "      <th>merchant_count</th>\n",
              "    </tr>\n",
              "  </thead>\n",
              "  <tbody>\n",
              "    <tr>\n",
              "      <th>0</th>\n",
              "      <td>-0.005463</td>\n",
              "      <td>86.19</td>\n",
              "      <td>-0.010865</td>\n",
              "      <td>34.0287</td>\n",
              "      <td>-118.4924</td>\n",
              "      <td>92043</td>\n",
              "      <td>-0.011392</td>\n",
              "      <td>33.287851</td>\n",
              "      <td>-118.740970</td>\n",
              "      <td>1.0</td>\n",
              "      <td>86.19</td>\n",
              "      <td>7.0</td>\n",
              "      <td>154.540000</td>\n",
              "      <td>15.0</td>\n",
              "      <td>117.767333</td>\n",
              "      <td>30.0</td>\n",
              "      <td>170.607667</td>\n",
              "      <td>48.142480</td>\n",
              "      <td>58.0</td>\n",
              "      <td>0</td>\n",
              "      <td>1</td>\n",
              "      <td>0</td>\n",
              "      <td>10</td>\n",
              "      <td>8</td>\n",
              "    </tr>\n",
              "    <tr>\n",
              "      <th>1</th>\n",
              "      <td>-0.077197</td>\n",
              "      <td>85.81</td>\n",
              "      <td>-0.010865</td>\n",
              "      <td>36.7154</td>\n",
              "      <td>-89.6287</td>\n",
              "      <td>1019</td>\n",
              "      <td>-0.011392</td>\n",
              "      <td>36.539950</td>\n",
              "      <td>-89.857416</td>\n",
              "      <td>1.0</td>\n",
              "      <td>85.81</td>\n",
              "      <td>7.0</td>\n",
              "      <td>51.678571</td>\n",
              "      <td>15.0</td>\n",
              "      <td>38.907333</td>\n",
              "      <td>30.0</td>\n",
              "      <td>41.390667</td>\n",
              "      <td>25.416212</td>\n",
              "      <td>41.0</td>\n",
              "      <td>0</td>\n",
              "      <td>0</td>\n",
              "      <td>14</td>\n",
              "      <td>21</td>\n",
              "      <td>4</td>\n",
              "    </tr>\n",
              "    <tr>\n",
              "      <th>2</th>\n",
              "      <td>0.021281</td>\n",
              "      <td>99.30</td>\n",
              "      <td>-0.010865</td>\n",
              "      <td>39.9636</td>\n",
              "      <td>-79.7853</td>\n",
              "      <td>184</td>\n",
              "      <td>-0.160392</td>\n",
              "      <td>39.582872</td>\n",
              "      <td>-78.838550</td>\n",
              "      <td>1.0</td>\n",
              "      <td>99.30</td>\n",
              "      <td>7.0</td>\n",
              "      <td>35.395714</td>\n",
              "      <td>15.0</td>\n",
              "      <td>44.594000</td>\n",
              "      <td>30.0</td>\n",
              "      <td>53.058667</td>\n",
              "      <td>105.499337</td>\n",
              "      <td>74.0</td>\n",
              "      <td>0</td>\n",
              "      <td>0</td>\n",
              "      <td>0</td>\n",
              "      <td>13</td>\n",
              "      <td>28</td>\n",
              "    </tr>\n",
              "    <tr>\n",
              "      <th>3</th>\n",
              "      <td>-0.112867</td>\n",
              "      <td>42.09</td>\n",
              "      <td>-0.010865</td>\n",
              "      <td>48.2777</td>\n",
              "      <td>-112.8456</td>\n",
              "      <td>743</td>\n",
              "      <td>-0.011392</td>\n",
              "      <td>48.310513</td>\n",
              "      <td>-112.837535</td>\n",
              "      <td>1.0</td>\n",
              "      <td>42.09</td>\n",
              "      <td>7.0</td>\n",
              "      <td>115.751429</td>\n",
              "      <td>15.0</td>\n",
              "      <td>86.262667</td>\n",
              "      <td>30.0</td>\n",
              "      <td>58.992667</td>\n",
              "      <td>1.675330</td>\n",
              "      <td>47.0</td>\n",
              "      <td>0</td>\n",
              "      <td>1</td>\n",
              "      <td>0</td>\n",
              "      <td>0</td>\n",
              "      <td>6</td>\n",
              "    </tr>\n",
              "    <tr>\n",
              "      <th>4</th>\n",
              "      <td>0.057742</td>\n",
              "      <td>4.24</td>\n",
              "      <td>-0.010865</td>\n",
              "      <td>36.4715</td>\n",
              "      <td>-82.4834</td>\n",
              "      <td>87124</td>\n",
              "      <td>-0.011392</td>\n",
              "      <td>37.329094</td>\n",
              "      <td>-82.070746</td>\n",
              "      <td>1.0</td>\n",
              "      <td>4.24</td>\n",
              "      <td>7.0</td>\n",
              "      <td>49.950000</td>\n",
              "      <td>15.0</td>\n",
              "      <td>65.408667</td>\n",
              "      <td>30.0</td>\n",
              "      <td>77.575333</td>\n",
              "      <td>47.609720</td>\n",
              "      <td>32.0</td>\n",
              "      <td>0</td>\n",
              "      <td>0</td>\n",
              "      <td>5</td>\n",
              "      <td>19</td>\n",
              "      <td>36</td>\n",
              "    </tr>\n",
              "  </tbody>\n",
              "</table>\n",
              "</div>\n",
              "      <button class=\"colab-df-convert\" onclick=\"convertToInteractive('df-9df767cb-2101-4c1b-81b1-2712cc6ad75a')\"\n",
              "              title=\"Convert this dataframe to an interactive table.\"\n",
              "              style=\"display:none;\">\n",
              "        \n",
              "  <svg xmlns=\"http://www.w3.org/2000/svg\" height=\"24px\"viewBox=\"0 0 24 24\"\n",
              "       width=\"24px\">\n",
              "    <path d=\"M0 0h24v24H0V0z\" fill=\"none\"/>\n",
              "    <path d=\"M18.56 5.44l.94 2.06.94-2.06 2.06-.94-2.06-.94-.94-2.06-.94 2.06-2.06.94zm-11 1L8.5 8.5l.94-2.06 2.06-.94-2.06-.94L8.5 2.5l-.94 2.06-2.06.94zm10 10l.94 2.06.94-2.06 2.06-.94-2.06-.94-.94-2.06-.94 2.06-2.06.94z\"/><path d=\"M17.41 7.96l-1.37-1.37c-.4-.4-.92-.59-1.43-.59-.52 0-1.04.2-1.43.59L10.3 9.45l-7.72 7.72c-.78.78-.78 2.05 0 2.83L4 21.41c.39.39.9.59 1.41.59.51 0 1.02-.2 1.41-.59l7.78-7.78 2.81-2.81c.8-.78.8-2.07 0-2.86zM5.41 20L4 18.59l7.72-7.72 1.47 1.35L5.41 20z\"/>\n",
              "  </svg>\n",
              "      </button>\n",
              "      \n",
              "  <style>\n",
              "    .colab-df-container {\n",
              "      display:flex;\n",
              "      flex-wrap:wrap;\n",
              "      gap: 12px;\n",
              "    }\n",
              "\n",
              "    .colab-df-convert {\n",
              "      background-color: #E8F0FE;\n",
              "      border: none;\n",
              "      border-radius: 50%;\n",
              "      cursor: pointer;\n",
              "      display: none;\n",
              "      fill: #1967D2;\n",
              "      height: 32px;\n",
              "      padding: 0 0 0 0;\n",
              "      width: 32px;\n",
              "    }\n",
              "\n",
              "    .colab-df-convert:hover {\n",
              "      background-color: #E2EBFA;\n",
              "      box-shadow: 0px 1px 2px rgba(60, 64, 67, 0.3), 0px 1px 3px 1px rgba(60, 64, 67, 0.15);\n",
              "      fill: #174EA6;\n",
              "    }\n",
              "\n",
              "    [theme=dark] .colab-df-convert {\n",
              "      background-color: #3B4455;\n",
              "      fill: #D2E3FC;\n",
              "    }\n",
              "\n",
              "    [theme=dark] .colab-df-convert:hover {\n",
              "      background-color: #434B5C;\n",
              "      box-shadow: 0px 1px 3px 1px rgba(0, 0, 0, 0.15);\n",
              "      filter: drop-shadow(0px 1px 2px rgba(0, 0, 0, 0.3));\n",
              "      fill: #FFFFFF;\n",
              "    }\n",
              "  </style>\n",
              "\n",
              "      <script>\n",
              "        const buttonEl =\n",
              "          document.querySelector('#df-9df767cb-2101-4c1b-81b1-2712cc6ad75a button.colab-df-convert');\n",
              "        buttonEl.style.display =\n",
              "          google.colab.kernel.accessAllowed ? 'block' : 'none';\n",
              "\n",
              "        async function convertToInteractive(key) {\n",
              "          const element = document.querySelector('#df-9df767cb-2101-4c1b-81b1-2712cc6ad75a');\n",
              "          const dataTable =\n",
              "            await google.colab.kernel.invokeFunction('convertToInteractive',\n",
              "                                                     [key], {});\n",
              "          if (!dataTable) return;\n",
              "\n",
              "          const docLinkHtml = 'Like what you see? Visit the ' +\n",
              "            '<a target=\"_blank\" href=https://colab.research.google.com/notebooks/data_table.ipynb>data table notebook</a>'\n",
              "            + ' to learn more about interactive tables.';\n",
              "          element.innerHTML = '';\n",
              "          dataTable['output_type'] = 'display_data';\n",
              "          await google.colab.output.renderOutput(dataTable, element);\n",
              "          const docLink = document.createElement('div');\n",
              "          docLink.innerHTML = docLinkHtml;\n",
              "          element.appendChild(docLink);\n",
              "        }\n",
              "      </script>\n",
              "    </div>\n",
              "  </div>\n",
              "  "
            ]
          },
          "metadata": {},
          "execution_count": 61
        }
      ]
    },
    {
      "cell_type": "code",
      "source": [
        "from sklearn.metrics import classification_report\n",
        "y_pred = clf.predict(X_test_resample)"
      ],
      "metadata": {
        "execution": {
          "iopub.status.busy": "2022-04-07T19:59:14.329981Z",
          "iopub.execute_input": "2022-04-07T19:59:14.330283Z",
          "iopub.status.idle": "2022-04-07T19:59:14.337591Z",
          "shell.execute_reply.started": "2022-04-07T19:59:14.330247Z",
          "shell.execute_reply": "2022-04-07T19:59:14.336518Z"
        },
        "trusted": true,
        "id": "Wzgado2aER9T"
      },
      "execution_count": null,
      "outputs": []
    },
    {
      "cell_type": "code",
      "source": [
        "from sklearn.metrics import confusion_matrix\n",
        "cf_matrix_test = confusion_matrix(y_test_resample, y_pred)"
      ],
      "metadata": {
        "execution": {
          "iopub.status.busy": "2022-04-07T19:59:47.428109Z",
          "iopub.execute_input": "2022-04-07T19:59:47.428637Z",
          "iopub.status.idle": "2022-04-07T19:59:47.438695Z",
          "shell.execute_reply.started": "2022-04-07T19:59:47.428591Z",
          "shell.execute_reply": "2022-04-07T19:59:47.437933Z"
        },
        "trusted": true,
        "id": "nidh6Ls2ER9T"
      },
      "execution_count": null,
      "outputs": []
    },
    {
      "cell_type": "code",
      "source": [
        "cf_matrix_train = confusion_matrix(y_resample, clf.predict(X_resample))"
      ],
      "metadata": {
        "id": "Mt0hKCP6Q_dN"
      },
      "execution_count": null,
      "outputs": []
    },
    {
      "cell_type": "code",
      "source": [
        "cf_matrix_train"
      ],
      "metadata": {
        "id": "VmdHhtJMRfPl",
        "colab": {
          "base_uri": "https://localhost:8080/"
        },
        "outputId": "9bbe2b70-b7ca-42d6-85a0-ff293a6ca8f0"
      },
      "execution_count": null,
      "outputs": [
        {
          "output_type": "execute_result",
          "data": {
            "text/plain": [
              "array([[7179,  327],\n",
              "       [1117, 6389]])"
            ]
          },
          "metadata": {},
          "execution_count": 54
        }
      ]
    },
    {
      "cell_type": "code",
      "source": [
        "cf_matrix_test"
      ],
      "metadata": {
        "id": "AEhxqpm-RcAB",
        "colab": {
          "base_uri": "https://localhost:8080/"
        },
        "outputId": "3f301bf3-b5df-439d-fc85-908a01531abf"
      },
      "execution_count": null,
      "outputs": [
        {
          "output_type": "execute_result",
          "data": {
            "text/plain": [
              "array([[2059,   86],\n",
              "       [ 330, 1815]])"
            ]
          },
          "metadata": {},
          "execution_count": 55
        }
      ]
    },
    {
      "cell_type": "code",
      "source": [
        "plt.figure(figsize=(10,8))\n",
        "sns.heatmap(cf_matrix_train/np.sum(cf_matrix_train), annot=True, \n",
        "            fmt='.2%', cmap='Blues')"
      ],
      "metadata": {
        "id": "JI5i2tI0RNe2",
        "colab": {
          "base_uri": "https://localhost:8080/",
          "height": 501
        },
        "outputId": "e431f9a5-f0e8-417f-f1d6-8b44d12f4ef5"
      },
      "execution_count": null,
      "outputs": [
        {
          "output_type": "execute_result",
          "data": {
            "text/plain": [
              "<matplotlib.axes._subplots.AxesSubplot at 0x7f9b275fcb90>"
            ]
          },
          "metadata": {},
          "execution_count": 56
        },
        {
          "output_type": "display_data",
          "data": {
            "text/plain": [
              "<Figure size 720x576 with 2 Axes>"
            ],
            "image/png": "[encoded data removed]"
          },
          "metadata": {
            "needs_background": "light"
          }
        }
      ]
    },
    {
      "cell_type": "code",
      "source": [
        "# [[530708,  22866],\n",
        "#        [   331,   1814]]\n",
        "plt.figure(figsize=(10,8))\n",
        "sns.heatmap(cf_matrix_test/np.sum(cf_matrix_test), annot=True, \n",
        "            fmt='.2%', cmap='Blues')"
      ],
      "metadata": {
        "execution": {
          "iopub.status.busy": "2022-04-07T19:59:47.440052Z",
          "iopub.execute_input": "2022-04-07T19:59:47.440698Z",
          "iopub.status.idle": "2022-04-07T19:59:47.700674Z",
          "shell.execute_reply.started": "2022-04-07T19:59:47.440663Z",
          "shell.execute_reply": "2022-04-07T19:59:47.697165Z"
        },
        "trusted": true,
        "id": "xizrgJomER9T",
        "colab": {
          "base_uri": "https://localhost:8080/",
          "height": 501
        },
        "outputId": "d32379ae-41ce-4187-a49c-dda8857acd8c"
      },
      "execution_count": null,
      "outputs": [
        {
          "output_type": "execute_result",
          "data": {
            "text/plain": [
              "<matplotlib.axes._subplots.AxesSubplot at 0x7f9b284cd850>"
            ]
          },
          "metadata": {},
          "execution_count": 57
        },
        {
          "output_type": "display_data",
          "data": {
            "text/plain": [
              "<Figure size 720x576 with 2 Axes>"
            ],
            "image/png": "[encoded data removed]"
          },
          "metadata": {
            "needs_background": "light"
          }
        }
      ]
    },
    {
      "cell_type": "code",
      "source": [
        "from sklearn import metrics"
      ],
      "metadata": {
        "execution": {
          "iopub.status.busy": "2022-04-07T19:59:47.701866Z",
          "iopub.execute_input": "2022-04-07T19:59:47.702118Z",
          "iopub.status.idle": "2022-04-07T19:59:47.707073Z",
          "shell.execute_reply.started": "2022-04-07T19:59:47.702091Z",
          "shell.execute_reply": "2022-04-07T19:59:47.705976Z"
        },
        "trusted": true,
        "id": "1lRFin6sER9T"
      },
      "execution_count": null,
      "outputs": []
    },
    {
      "cell_type": "code",
      "source": [
        "#define metrics\n",
        "y_pred_proba = clf.predict_proba(X_test_resample)[::,1]\n",
        "fpr, tpr, _ = metrics.roc_curve(y_test_resample,  y_pred_proba)\n",
        "roc_auc = metrics.auc(fpr, tpr)\n",
        "plt.figure()\n",
        "lw = 2\n",
        "plt.plot(\n",
        "    fpr,\n",
        "    tpr,\n",
        "    color=\"darkorange\",\n",
        "    lw=lw,\n",
        "    label=\"ROC curve (area = %0.2f)\" % roc_auc,\n",
        ")\n",
        "plt.plot([0, 1], [0, 1], color=\"navy\", lw=lw, linestyle=\"--\")\n",
        "plt.xlabel(\"False Positive Rate\")\n",
        "plt.ylabel(\"True Positive Rate\")\n",
        "plt.title(\"Receiver operating characteristic example\")\n",
        "plt.legend(loc=\"lower right\")\n",
        "plt.show()"
      ],
      "metadata": {
        "execution": {
          "iopub.status.busy": "2022-04-07T20:00:39.745606Z",
          "iopub.execute_input": "2022-04-07T20:00:39.746265Z",
          "iopub.status.idle": "2022-04-07T20:00:39.99549Z",
          "shell.execute_reply.started": "2022-04-07T20:00:39.746229Z",
          "shell.execute_reply": "2022-04-07T20:00:39.994835Z"
        },
        "trusted": true,
        "id": "cBWBble8ER9T",
        "colab": {
          "base_uri": "https://localhost:8080/",
          "height": 295
        },
        "outputId": "d17724db-c7ab-4e25-fb6a-f415ec6e72b4"
      },
      "execution_count": null,
      "outputs": [
        {
          "output_type": "display_data",
          "data": {
            "text/plain": [
              "<Figure size 432x288 with 1 Axes>"
            ],
            "image/png": "[encoded data removed]"
          },
          "metadata": {
            "needs_background": "light"
          }
        }
      ]
    }
  ]
}